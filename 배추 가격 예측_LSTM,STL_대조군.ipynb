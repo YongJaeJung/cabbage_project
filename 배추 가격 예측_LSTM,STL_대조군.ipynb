{
 "cells": [
  {
   "cell_type": "markdown",
   "metadata": {
    "id": "j20NaN4I-AVK"
   },
   "source": [
    "## 라이브러리 "
   ]
  },
  {
   "cell_type": "code",
   "execution_count": 1,
   "metadata": {
    "ExecuteTime": {
     "end_time": "2022-01-12T14:05:38.994542Z",
     "start_time": "2022-01-12T14:05:35.290543Z"
    },
    "id": "pVEPAI7W9fec"
   },
   "outputs": [],
   "source": [
    "import matplotlib.pyplot as plt\n",
    "plt.rc('font',family='Malgun Gothic')\n",
    "import tensorflow as tf\n",
    "from numpy import array\n",
    "import pandas as pd\n",
    "import matplotlib.pyplot as plt\n",
    "import numpy as np\n",
    "import math\n",
    "import matplotlib as mpl\n",
    "from IPython.core.display import display, HTML\n",
    "from datetime import datetime\n",
    "from datetime import timedelta\n",
    "from dateutil.relativedelta import relativedelta\n",
    "from sklearn.preprocessing import MinMaxScaler, RobustScaler\n",
    "from sklearn.model_selection import train_test_split, RandomizedSearchCV\n",
    "from sklearn.metrics import mean_squared_error, r2_score, mean_absolute_error\n",
    "from tensorflow.keras import Sequential\n",
    "from tensorflow.keras import layers\n",
    "from tensorflow.keras.layers import Dense, LSTM, Dropout,GRU\n",
    "from tensorflow.keras.callbacks import ModelCheckpoint, EarlyStopping\n",
    "from statsmodels.tsa.seasonal import seasonal_decompose, STL\n",
    "import urllib.request\n",
    "import json\n",
    "import datetime\n",
    "import os\n",
    "from datetime import datetime\n",
    "import warnings\n",
    "\n",
    "warnings.filterwarnings('ignore')"
   ]
  },
  {
   "cell_type": "markdown",
   "metadata": {
    "id": "6fuVrRf7VOzx"
   },
   "source": [
    "# 2016.1.1 ~ 2020.9.28 농산물 Train 데이터 "
   ]
  },
  {
   "cell_type": "code",
   "execution_count": 2,
   "metadata": {
    "ExecuteTime": {
     "end_time": "2022-01-12T14:05:39.041543Z",
     "start_time": "2022-01-12T14:05:38.995543Z"
    },
    "id": "Qce92aIZVV-4"
   },
   "outputs": [
    {
     "data": {
      "text/html": [
       "<div>\n",
       "<style scoped>\n",
       "    .dataframe tbody tr th:only-of-type {\n",
       "        vertical-align: middle;\n",
       "    }\n",
       "\n",
       "    .dataframe tbody tr th {\n",
       "        vertical-align: top;\n",
       "    }\n",
       "\n",
       "    .dataframe thead th {\n",
       "        text-align: right;\n",
       "    }\n",
       "</style>\n",
       "<table border=\"1\" class=\"dataframe\">\n",
       "  <thead>\n",
       "    <tr style=\"text-align: right;\">\n",
       "      <th></th>\n",
       "      <th>date</th>\n",
       "      <th>배추_거래량(kg)</th>\n",
       "      <th>배추_가격(원/kg)</th>\n",
       "      <th>무_거래량(kg)</th>\n",
       "      <th>무_가격(원/kg)</th>\n",
       "      <th>양파_거래량(kg)</th>\n",
       "      <th>양파_가격(원/kg)</th>\n",
       "      <th>건고추_거래량(kg)</th>\n",
       "      <th>건고추_가격(원/kg)</th>\n",
       "      <th>마늘_거래량(kg)</th>\n",
       "      <th>...</th>\n",
       "      <th>캠벨얼리_가격(원/kg)</th>\n",
       "      <th>샤인마스캇_거래량(kg)</th>\n",
       "      <th>샤인마스캇_가격(원/kg)</th>\n",
       "      <th>금요일</th>\n",
       "      <th>목요일</th>\n",
       "      <th>수요일</th>\n",
       "      <th>월요일</th>\n",
       "      <th>일요일</th>\n",
       "      <th>토요일</th>\n",
       "      <th>화요일</th>\n",
       "    </tr>\n",
       "  </thead>\n",
       "  <tbody>\n",
       "    <tr>\n",
       "      <th>0</th>\n",
       "      <td>2016-01-01</td>\n",
       "      <td>0.0</td>\n",
       "      <td>0.0</td>\n",
       "      <td>0.0</td>\n",
       "      <td>0.0</td>\n",
       "      <td>0.0</td>\n",
       "      <td>0.0</td>\n",
       "      <td>0.0</td>\n",
       "      <td>0.0</td>\n",
       "      <td>0.0</td>\n",
       "      <td>...</td>\n",
       "      <td>0.0</td>\n",
       "      <td>0.0</td>\n",
       "      <td>0.0</td>\n",
       "      <td>1</td>\n",
       "      <td>0</td>\n",
       "      <td>0</td>\n",
       "      <td>0</td>\n",
       "      <td>0</td>\n",
       "      <td>0</td>\n",
       "      <td>0</td>\n",
       "    </tr>\n",
       "    <tr>\n",
       "      <th>1</th>\n",
       "      <td>2016-01-02</td>\n",
       "      <td>80860.0</td>\n",
       "      <td>329.0</td>\n",
       "      <td>80272.0</td>\n",
       "      <td>360.0</td>\n",
       "      <td>122787.5</td>\n",
       "      <td>1281.0</td>\n",
       "      <td>3.0</td>\n",
       "      <td>11000.0</td>\n",
       "      <td>15019.0</td>\n",
       "      <td>...</td>\n",
       "      <td>2014.0</td>\n",
       "      <td>0.0</td>\n",
       "      <td>0.0</td>\n",
       "      <td>0</td>\n",
       "      <td>0</td>\n",
       "      <td>0</td>\n",
       "      <td>0</td>\n",
       "      <td>0</td>\n",
       "      <td>1</td>\n",
       "      <td>0</td>\n",
       "    </tr>\n",
       "    <tr>\n",
       "      <th>2</th>\n",
       "      <td>2016-01-03</td>\n",
       "      <td>0.0</td>\n",
       "      <td>0.0</td>\n",
       "      <td>0.0</td>\n",
       "      <td>0.0</td>\n",
       "      <td>0.0</td>\n",
       "      <td>0.0</td>\n",
       "      <td>0.0</td>\n",
       "      <td>0.0</td>\n",
       "      <td>0.0</td>\n",
       "      <td>...</td>\n",
       "      <td>0.0</td>\n",
       "      <td>0.0</td>\n",
       "      <td>0.0</td>\n",
       "      <td>0</td>\n",
       "      <td>0</td>\n",
       "      <td>0</td>\n",
       "      <td>0</td>\n",
       "      <td>1</td>\n",
       "      <td>0</td>\n",
       "      <td>0</td>\n",
       "    </tr>\n",
       "    <tr>\n",
       "      <th>3</th>\n",
       "      <td>2016-01-04</td>\n",
       "      <td>1422742.5</td>\n",
       "      <td>478.0</td>\n",
       "      <td>1699653.7</td>\n",
       "      <td>382.0</td>\n",
       "      <td>2315079.0</td>\n",
       "      <td>1235.0</td>\n",
       "      <td>699.0</td>\n",
       "      <td>4464.0</td>\n",
       "      <td>141638.0</td>\n",
       "      <td>...</td>\n",
       "      <td>3885.0</td>\n",
       "      <td>0.0</td>\n",
       "      <td>0.0</td>\n",
       "      <td>0</td>\n",
       "      <td>0</td>\n",
       "      <td>0</td>\n",
       "      <td>1</td>\n",
       "      <td>0</td>\n",
       "      <td>0</td>\n",
       "      <td>0</td>\n",
       "    </tr>\n",
       "    <tr>\n",
       "      <th>4</th>\n",
       "      <td>2016-01-05</td>\n",
       "      <td>1167241.0</td>\n",
       "      <td>442.0</td>\n",
       "      <td>1423482.3</td>\n",
       "      <td>422.0</td>\n",
       "      <td>2092960.1</td>\n",
       "      <td>1213.0</td>\n",
       "      <td>1112.6</td>\n",
       "      <td>4342.0</td>\n",
       "      <td>126207.8</td>\n",
       "      <td>...</td>\n",
       "      <td>2853.0</td>\n",
       "      <td>0.0</td>\n",
       "      <td>0.0</td>\n",
       "      <td>0</td>\n",
       "      <td>0</td>\n",
       "      <td>0</td>\n",
       "      <td>0</td>\n",
       "      <td>0</td>\n",
       "      <td>0</td>\n",
       "      <td>1</td>\n",
       "    </tr>\n",
       "  </tbody>\n",
       "</table>\n",
       "<p>5 rows × 50 columns</p>\n",
       "</div>"
      ],
      "text/plain": [
       "        date  배추_거래량(kg)  배추_가격(원/kg)  무_거래량(kg)  무_가격(원/kg)  양파_거래량(kg)  \\\n",
       "0 2016-01-01         0.0          0.0        0.0         0.0         0.0   \n",
       "1 2016-01-02     80860.0        329.0    80272.0       360.0    122787.5   \n",
       "2 2016-01-03         0.0          0.0        0.0         0.0         0.0   \n",
       "3 2016-01-04   1422742.5        478.0  1699653.7       382.0   2315079.0   \n",
       "4 2016-01-05   1167241.0        442.0  1423482.3       422.0   2092960.1   \n",
       "\n",
       "   양파_가격(원/kg)  건고추_거래량(kg)  건고추_가격(원/kg)  마늘_거래량(kg)  ...  캠벨얼리_가격(원/kg)  \\\n",
       "0          0.0          0.0           0.0         0.0  ...            0.0   \n",
       "1       1281.0          3.0       11000.0     15019.0  ...         2014.0   \n",
       "2          0.0          0.0           0.0         0.0  ...            0.0   \n",
       "3       1235.0        699.0        4464.0    141638.0  ...         3885.0   \n",
       "4       1213.0       1112.6        4342.0    126207.8  ...         2853.0   \n",
       "\n",
       "   샤인마스캇_거래량(kg)  샤인마스캇_가격(원/kg)  금요일  목요일  수요일  월요일  일요일  토요일  화요일  \n",
       "0            0.0             0.0    1    0    0    0    0    0    0  \n",
       "1            0.0             0.0    0    0    0    0    0    1    0  \n",
       "2            0.0             0.0    0    0    0    0    1    0    0  \n",
       "3            0.0             0.0    0    0    0    1    0    0    0  \n",
       "4            0.0             0.0    0    0    0    0    0    0    1  \n",
       "\n",
       "[5 rows x 50 columns]"
      ]
     },
     "execution_count": 2,
     "metadata": {},
     "output_type": "execute_result"
    }
   ],
   "source": [
    "# train data set 불러오기\n",
    "\n",
    "train_df = pd.read_csv('nongsan_data/public_data/train.csv', encoding='utf-8')\n",
    "train_df['date'] = pd.to_datetime(train_df['date'])\n",
    "train_df.index = train_df['date']\n",
    "train_df = train_df.drop('date',axis=1)\n",
    "train_df.index.freq = 'D'\n",
    "train_df = train_df.interpolate(method='linear').fillna(0)\n",
    "train_df = train_df.reset_index()\n",
    "train_df = pd.concat([train_df,pd.get_dummies(train_df['요일'])],axis=1)\n",
    "train_df = train_df.drop('요일',axis=1)\n",
    "train_df.head()"
   ]
  },
  {
   "cell_type": "markdown",
   "metadata": {},
   "source": [
    "# 2020.9.29 ~ 2020.11.04 농산물 Test 데이터 "
   ]
  },
  {
   "cell_type": "code",
   "execution_count": 3,
   "metadata": {
    "ExecuteTime": {
     "end_time": "2022-01-12T14:05:39.073542Z",
     "start_time": "2022-01-12T14:05:39.042546Z"
    },
    "id": "rl_iqps3VhRl"
   },
   "outputs": [
    {
     "data": {
      "text/html": [
       "<div>\n",
       "<style scoped>\n",
       "    .dataframe tbody tr th:only-of-type {\n",
       "        vertical-align: middle;\n",
       "    }\n",
       "\n",
       "    .dataframe tbody tr th {\n",
       "        vertical-align: top;\n",
       "    }\n",
       "\n",
       "    .dataframe thead th {\n",
       "        text-align: right;\n",
       "    }\n",
       "</style>\n",
       "<table border=\"1\" class=\"dataframe\">\n",
       "  <thead>\n",
       "    <tr style=\"text-align: right;\">\n",
       "      <th></th>\n",
       "      <th>date</th>\n",
       "      <th>배추_거래량(kg)</th>\n",
       "      <th>배추_가격(원/kg)</th>\n",
       "      <th>무_거래량(kg)</th>\n",
       "      <th>무_가격(원/kg)</th>\n",
       "      <th>양파_거래량(kg)</th>\n",
       "      <th>양파_가격(원/kg)</th>\n",
       "      <th>건고추_거래량(kg)</th>\n",
       "      <th>건고추_가격(원/kg)</th>\n",
       "      <th>마늘_거래량(kg)</th>\n",
       "      <th>...</th>\n",
       "      <th>캠벨얼리_가격(원/kg)</th>\n",
       "      <th>샤인마스캇_거래량(kg)</th>\n",
       "      <th>샤인마스캇_가격(원/kg)</th>\n",
       "      <th>금요일</th>\n",
       "      <th>목요일</th>\n",
       "      <th>수요일</th>\n",
       "      <th>월요일</th>\n",
       "      <th>일요일</th>\n",
       "      <th>토요일</th>\n",
       "      <th>화요일</th>\n",
       "    </tr>\n",
       "  </thead>\n",
       "  <tbody>\n",
       "    <tr>\n",
       "      <th>0</th>\n",
       "      <td>2020-09-29</td>\n",
       "      <td>2064183.3</td>\n",
       "      <td>1787.0</td>\n",
       "      <td>2424383.2</td>\n",
       "      <td>1190.0</td>\n",
       "      <td>1209647.0</td>\n",
       "      <td>966.0</td>\n",
       "      <td>2842.8</td>\n",
       "      <td>25873.0</td>\n",
       "      <td>160209.8</td>\n",
       "      <td>...</td>\n",
       "      <td>3937.0</td>\n",
       "      <td>259765.0</td>\n",
       "      <td>11400.0</td>\n",
       "      <td>0</td>\n",
       "      <td>0</td>\n",
       "      <td>0</td>\n",
       "      <td>0</td>\n",
       "      <td>0</td>\n",
       "      <td>0</td>\n",
       "      <td>1</td>\n",
       "    </tr>\n",
       "    <tr>\n",
       "      <th>1</th>\n",
       "      <td>2020-09-30</td>\n",
       "      <td>259065.3</td>\n",
       "      <td>1551.0</td>\n",
       "      <td>1044460.0</td>\n",
       "      <td>984.0</td>\n",
       "      <td>136696.4</td>\n",
       "      <td>857.0</td>\n",
       "      <td>35.0</td>\n",
       "      <td>9929.0</td>\n",
       "      <td>48296.7</td>\n",
       "      <td>...</td>\n",
       "      <td>3885.0</td>\n",
       "      <td>121859.6</td>\n",
       "      <td>11649.0</td>\n",
       "      <td>0</td>\n",
       "      <td>0</td>\n",
       "      <td>1</td>\n",
       "      <td>0</td>\n",
       "      <td>0</td>\n",
       "      <td>0</td>\n",
       "      <td>0</td>\n",
       "    </tr>\n",
       "    <tr>\n",
       "      <th>2</th>\n",
       "      <td>2020-10-01</td>\n",
       "      <td>0.0</td>\n",
       "      <td>0.0</td>\n",
       "      <td>0.0</td>\n",
       "      <td>0.0</td>\n",
       "      <td>0.0</td>\n",
       "      <td>0.0</td>\n",
       "      <td>0.0</td>\n",
       "      <td>0.0</td>\n",
       "      <td>0.0</td>\n",
       "      <td>...</td>\n",
       "      <td>0.0</td>\n",
       "      <td>0.0</td>\n",
       "      <td>0.0</td>\n",
       "      <td>0</td>\n",
       "      <td>1</td>\n",
       "      <td>0</td>\n",
       "      <td>0</td>\n",
       "      <td>0</td>\n",
       "      <td>0</td>\n",
       "      <td>0</td>\n",
       "    </tr>\n",
       "    <tr>\n",
       "      <th>3</th>\n",
       "      <td>2020-10-02</td>\n",
       "      <td>0.0</td>\n",
       "      <td>0.0</td>\n",
       "      <td>0.0</td>\n",
       "      <td>0.0</td>\n",
       "      <td>0.0</td>\n",
       "      <td>0.0</td>\n",
       "      <td>0.0</td>\n",
       "      <td>0.0</td>\n",
       "      <td>0.0</td>\n",
       "      <td>...</td>\n",
       "      <td>0.0</td>\n",
       "      <td>0.0</td>\n",
       "      <td>0.0</td>\n",
       "      <td>1</td>\n",
       "      <td>0</td>\n",
       "      <td>0</td>\n",
       "      <td>0</td>\n",
       "      <td>0</td>\n",
       "      <td>0</td>\n",
       "      <td>0</td>\n",
       "    </tr>\n",
       "    <tr>\n",
       "      <th>4</th>\n",
       "      <td>2020-10-03</td>\n",
       "      <td>0.0</td>\n",
       "      <td>0.0</td>\n",
       "      <td>3100.0</td>\n",
       "      <td>835.0</td>\n",
       "      <td>0.0</td>\n",
       "      <td>0.0</td>\n",
       "      <td>0.0</td>\n",
       "      <td>0.0</td>\n",
       "      <td>0.0</td>\n",
       "      <td>...</td>\n",
       "      <td>0.0</td>\n",
       "      <td>0.0</td>\n",
       "      <td>0.0</td>\n",
       "      <td>0</td>\n",
       "      <td>0</td>\n",
       "      <td>0</td>\n",
       "      <td>0</td>\n",
       "      <td>0</td>\n",
       "      <td>1</td>\n",
       "      <td>0</td>\n",
       "    </tr>\n",
       "  </tbody>\n",
       "</table>\n",
       "<p>5 rows × 50 columns</p>\n",
       "</div>"
      ],
      "text/plain": [
       "        date  배추_거래량(kg)  배추_가격(원/kg)  무_거래량(kg)  무_가격(원/kg)  양파_거래량(kg)  \\\n",
       "0 2020-09-29   2064183.3       1787.0  2424383.2      1190.0   1209647.0   \n",
       "1 2020-09-30    259065.3       1551.0  1044460.0       984.0    136696.4   \n",
       "2 2020-10-01         0.0          0.0        0.0         0.0         0.0   \n",
       "3 2020-10-02         0.0          0.0        0.0         0.0         0.0   \n",
       "4 2020-10-03         0.0          0.0     3100.0       835.0         0.0   \n",
       "\n",
       "   양파_가격(원/kg)  건고추_거래량(kg)  건고추_가격(원/kg)  마늘_거래량(kg)  ...  캠벨얼리_가격(원/kg)  \\\n",
       "0        966.0       2842.8       25873.0    160209.8  ...         3937.0   \n",
       "1        857.0         35.0        9929.0     48296.7  ...         3885.0   \n",
       "2          0.0          0.0           0.0         0.0  ...            0.0   \n",
       "3          0.0          0.0           0.0         0.0  ...            0.0   \n",
       "4          0.0          0.0           0.0         0.0  ...            0.0   \n",
       "\n",
       "   샤인마스캇_거래량(kg)  샤인마스캇_가격(원/kg)  금요일  목요일  수요일  월요일  일요일  토요일  화요일  \n",
       "0       259765.0         11400.0    0    0    0    0    0    0    1  \n",
       "1       121859.6         11649.0    0    0    1    0    0    0    0  \n",
       "2            0.0             0.0    0    1    0    0    0    0    0  \n",
       "3            0.0             0.0    1    0    0    0    0    0    0  \n",
       "4            0.0             0.0    0    0    0    0    0    1    0  \n",
       "\n",
       "[5 rows x 50 columns]"
      ]
     },
     "execution_count": 3,
     "metadata": {},
     "output_type": "execute_result"
    }
   ],
   "source": [
    "# testdata set 불러오기\n",
    "\n",
    "test_df = pd.read_csv('nongsan_data/public_data/test_files/test_2020-11-05.csv', encoding='utf-8')\n",
    "test_df['date'] = pd.to_datetime(test_df['date'])\n",
    "test_df.index = test_df['date']\n",
    "test_df = test_df.drop('date',axis=1)\n",
    "test_df.index.freq = 'D'\n",
    "test_df = test_df.reset_index()\n",
    "test_df = pd.concat([test_df,pd.get_dummies(test_df['요일'])],axis=1)\n",
    "test_df = test_df.drop('요일',axis=1)\n",
    "test_df.head()"
   ]
  },
  {
   "cell_type": "markdown",
   "metadata": {},
   "source": [
    "# 사용할 변수 지정"
   ]
  },
  {
   "cell_type": "code",
   "execution_count": 4,
   "metadata": {
    "ExecuteTime": {
     "end_time": "2022-01-12T14:05:39.089543Z",
     "start_time": "2022-01-12T14:05:39.074544Z"
    }
   },
   "outputs": [],
   "source": [
    "week_names = ['월요일','화요일','수요일','목요일','금요일','토요일','일요일']"
   ]
  },
  {
   "cell_type": "markdown",
   "metadata": {},
   "source": [
    "## 농산물별 자동으로 변수 만들어주는 함수"
   ]
  },
  {
   "cell_type": "code",
   "execution_count": 5,
   "metadata": {
    "ExecuteTime": {
     "end_time": "2022-01-12T14:05:39.104542Z",
     "start_time": "2022-01-12T14:05:39.090543Z"
    }
   },
   "outputs": [],
   "source": [
    "def set_feature_per_item(item):\n",
    "    price_feature = f'{item}_가격(원/kg)'\n",
    "    quantity_feature = f'{item}_거래량(kg)'\n",
    "    all_features = [price_feature,quantity_feature]\n",
    "    all_features.extend(week_names)\n",
    "    \n",
    "    return price_feature,quantity_feature,set(all_features)"
   ]
  },
  {
   "cell_type": "code",
   "execution_count": 6,
   "metadata": {
    "ExecuteTime": {
     "end_time": "2022-01-12T14:05:39.120221Z",
     "start_time": "2022-01-12T14:05:39.105543Z"
    }
   },
   "outputs": [
    {
     "data": {
      "text/plain": [
       "('배추_가격(원/kg)',\n",
       " '배추_거래량(kg)',\n",
       " {'금요일',\n",
       "  '목요일',\n",
       "  '배추_가격(원/kg)',\n",
       "  '배추_거래량(kg)',\n",
       "  '수요일',\n",
       "  '월요일',\n",
       "  '일요일',\n",
       "  '토요일',\n",
       "  '화요일'})"
      ]
     },
     "execution_count": 6,
     "metadata": {},
     "output_type": "execute_result"
    }
   ],
   "source": [
    "price_feature , quantity_feature , all_features = set_feature_per_item('배추')\n",
    "price_feature , quantity_feature , all_features"
   ]
  },
  {
   "cell_type": "markdown",
   "metadata": {},
   "source": [
    "## 모든 필요한 변수에 날짜 넣고, 필요없는 거래량 빼줌"
   ]
  },
  {
   "cell_type": "code",
   "execution_count": 7,
   "metadata": {
    "ExecuteTime": {
     "end_time": "2022-01-12T14:05:39.136221Z",
     "start_time": "2022-01-12T14:05:39.121223Z"
    }
   },
   "outputs": [],
   "source": [
    "all_features.add('date')\n",
    "all_features = all_features - set(['배추_거래량(kg)'])"
   ]
  },
  {
   "cell_type": "markdown",
   "metadata": {},
   "source": [
    "## 훈련용 데이터 7일 후의 배추가격을 target으로 지정"
   ]
  },
  {
   "cell_type": "code",
   "execution_count": 8,
   "metadata": {
    "ExecuteTime": {
     "end_time": "2022-01-12T14:05:39.184221Z",
     "start_time": "2022-01-12T14:05:39.137222Z"
    }
   },
   "outputs": [
    {
     "data": {
      "text/html": [
       "<div>\n",
       "<style scoped>\n",
       "    .dataframe tbody tr th:only-of-type {\n",
       "        vertical-align: middle;\n",
       "    }\n",
       "\n",
       "    .dataframe tbody tr th {\n",
       "        vertical-align: top;\n",
       "    }\n",
       "\n",
       "    .dataframe thead th {\n",
       "        text-align: right;\n",
       "    }\n",
       "</style>\n",
       "<table border=\"1\" class=\"dataframe\">\n",
       "  <thead>\n",
       "    <tr style=\"text-align: right;\">\n",
       "      <th></th>\n",
       "      <th>월요일</th>\n",
       "      <th>일요일</th>\n",
       "      <th>토요일</th>\n",
       "      <th>금요일</th>\n",
       "      <th>date</th>\n",
       "      <th>수요일</th>\n",
       "      <th>배추_가격(원/kg)</th>\n",
       "      <th>화요일</th>\n",
       "      <th>목요일</th>\n",
       "      <th>7일 후</th>\n",
       "      <th>residual</th>\n",
       "    </tr>\n",
       "  </thead>\n",
       "  <tbody>\n",
       "    <tr>\n",
       "      <th>1728</th>\n",
       "      <td>0</td>\n",
       "      <td>0</td>\n",
       "      <td>0</td>\n",
       "      <td>0</td>\n",
       "      <td>2020-09-24</td>\n",
       "      <td>0</td>\n",
       "      <td>1839.0</td>\n",
       "      <td>0</td>\n",
       "      <td>1</td>\n",
       "      <td>NaN</td>\n",
       "      <td>-152.919637</td>\n",
       "    </tr>\n",
       "    <tr>\n",
       "      <th>1729</th>\n",
       "      <td>0</td>\n",
       "      <td>0</td>\n",
       "      <td>0</td>\n",
       "      <td>1</td>\n",
       "      <td>2020-09-25</td>\n",
       "      <td>0</td>\n",
       "      <td>1789.0</td>\n",
       "      <td>0</td>\n",
       "      <td>0</td>\n",
       "      <td>NaN</td>\n",
       "      <td>563.415158</td>\n",
       "    </tr>\n",
       "    <tr>\n",
       "      <th>1730</th>\n",
       "      <td>0</td>\n",
       "      <td>0</td>\n",
       "      <td>1</td>\n",
       "      <td>0</td>\n",
       "      <td>2020-09-26</td>\n",
       "      <td>0</td>\n",
       "      <td>1760.0</td>\n",
       "      <td>0</td>\n",
       "      <td>0</td>\n",
       "      <td>NaN</td>\n",
       "      <td>-359.340205</td>\n",
       "    </tr>\n",
       "    <tr>\n",
       "      <th>1731</th>\n",
       "      <td>0</td>\n",
       "      <td>1</td>\n",
       "      <td>0</td>\n",
       "      <td>0</td>\n",
       "      <td>2020-09-27</td>\n",
       "      <td>0</td>\n",
       "      <td>3066.0</td>\n",
       "      <td>0</td>\n",
       "      <td>0</td>\n",
       "      <td>NaN</td>\n",
       "      <td>204.297484</td>\n",
       "    </tr>\n",
       "    <tr>\n",
       "      <th>1732</th>\n",
       "      <td>1</td>\n",
       "      <td>0</td>\n",
       "      <td>0</td>\n",
       "      <td>0</td>\n",
       "      <td>2020-09-28</td>\n",
       "      <td>0</td>\n",
       "      <td>1867.0</td>\n",
       "      <td>0</td>\n",
       "      <td>0</td>\n",
       "      <td>NaN</td>\n",
       "      <td>-232.379198</td>\n",
       "    </tr>\n",
       "  </tbody>\n",
       "</table>\n",
       "</div>"
      ],
      "text/plain": [
       "      월요일  일요일  토요일  금요일       date  수요일  배추_가격(원/kg)  화요일  목요일  7일 후  \\\n",
       "1728    0    0    0    0 2020-09-24    0       1839.0    0    1   NaN   \n",
       "1729    0    0    0    1 2020-09-25    0       1789.0    0    0   NaN   \n",
       "1730    0    0    1    0 2020-09-26    0       1760.0    0    0   NaN   \n",
       "1731    0    1    0    0 2020-09-27    0       3066.0    0    0   NaN   \n",
       "1732    1    0    0    0 2020-09-28    0       1867.0    0    0   NaN   \n",
       "\n",
       "        residual  \n",
       "1728 -152.919637  \n",
       "1729  563.415158  \n",
       "1730 -359.340205  \n",
       "1731  204.297484  \n",
       "1732 -232.379198  "
      ]
     },
     "execution_count": 8,
     "metadata": {},
     "output_type": "execute_result"
    }
   ],
   "source": [
    "train_df = train_df[all_features]\n",
    "train_df['7일 후'] = train_df[price_feature].shift(-7)\n",
    "train_df['residual'] = 0\n",
    "stl = STL(train_df[['date', price_feature]].set_index('date'), period=12)\n",
    "res = stl.fit()\n",
    "train_df['residual'] = res.resid.values\n",
    "train_df.tail()"
   ]
  },
  {
   "cell_type": "markdown",
   "metadata": {},
   "source": [
    "## 테스트용 데이터 "
   ]
  },
  {
   "cell_type": "code",
   "execution_count": 9,
   "metadata": {
    "ExecuteTime": {
     "end_time": "2022-01-12T14:05:39.200224Z",
     "start_time": "2022-01-12T14:05:39.185223Z"
    }
   },
   "outputs": [
    {
     "data": {
      "text/html": [
       "<div>\n",
       "<style scoped>\n",
       "    .dataframe tbody tr th:only-of-type {\n",
       "        vertical-align: middle;\n",
       "    }\n",
       "\n",
       "    .dataframe tbody tr th {\n",
       "        vertical-align: top;\n",
       "    }\n",
       "\n",
       "    .dataframe thead th {\n",
       "        text-align: right;\n",
       "    }\n",
       "</style>\n",
       "<table border=\"1\" class=\"dataframe\">\n",
       "  <thead>\n",
       "    <tr style=\"text-align: right;\">\n",
       "      <th></th>\n",
       "      <th>월요일</th>\n",
       "      <th>일요일</th>\n",
       "      <th>토요일</th>\n",
       "      <th>금요일</th>\n",
       "      <th>date</th>\n",
       "      <th>수요일</th>\n",
       "      <th>배추_가격(원/kg)</th>\n",
       "      <th>화요일</th>\n",
       "      <th>목요일</th>\n",
       "      <th>예측</th>\n",
       "    </tr>\n",
       "  </thead>\n",
       "  <tbody>\n",
       "    <tr>\n",
       "      <th>0</th>\n",
       "      <td>0</td>\n",
       "      <td>0</td>\n",
       "      <td>0</td>\n",
       "      <td>0</td>\n",
       "      <td>2020-09-29</td>\n",
       "      <td>0</td>\n",
       "      <td>1787.0</td>\n",
       "      <td>1</td>\n",
       "      <td>0</td>\n",
       "      <td>0</td>\n",
       "    </tr>\n",
       "    <tr>\n",
       "      <th>1</th>\n",
       "      <td>0</td>\n",
       "      <td>0</td>\n",
       "      <td>0</td>\n",
       "      <td>0</td>\n",
       "      <td>2020-09-30</td>\n",
       "      <td>1</td>\n",
       "      <td>1551.0</td>\n",
       "      <td>0</td>\n",
       "      <td>0</td>\n",
       "      <td>0</td>\n",
       "    </tr>\n",
       "    <tr>\n",
       "      <th>2</th>\n",
       "      <td>0</td>\n",
       "      <td>0</td>\n",
       "      <td>0</td>\n",
       "      <td>0</td>\n",
       "      <td>2020-10-01</td>\n",
       "      <td>0</td>\n",
       "      <td>0.0</td>\n",
       "      <td>0</td>\n",
       "      <td>1</td>\n",
       "      <td>0</td>\n",
       "    </tr>\n",
       "    <tr>\n",
       "      <th>3</th>\n",
       "      <td>0</td>\n",
       "      <td>0</td>\n",
       "      <td>0</td>\n",
       "      <td>1</td>\n",
       "      <td>2020-10-02</td>\n",
       "      <td>0</td>\n",
       "      <td>0.0</td>\n",
       "      <td>0</td>\n",
       "      <td>0</td>\n",
       "      <td>0</td>\n",
       "    </tr>\n",
       "    <tr>\n",
       "      <th>4</th>\n",
       "      <td>0</td>\n",
       "      <td>0</td>\n",
       "      <td>1</td>\n",
       "      <td>0</td>\n",
       "      <td>2020-10-03</td>\n",
       "      <td>0</td>\n",
       "      <td>0.0</td>\n",
       "      <td>0</td>\n",
       "      <td>0</td>\n",
       "      <td>0</td>\n",
       "    </tr>\n",
       "  </tbody>\n",
       "</table>\n",
       "</div>"
      ],
      "text/plain": [
       "   월요일  일요일  토요일  금요일       date  수요일  배추_가격(원/kg)  화요일  목요일  예측\n",
       "0    0    0    0    0 2020-09-29    0       1787.0    1    0   0\n",
       "1    0    0    0    0 2020-09-30    1       1551.0    0    0   0\n",
       "2    0    0    0    0 2020-10-01    0          0.0    0    1   0\n",
       "3    0    0    0    1 2020-10-02    0          0.0    0    0   0\n",
       "4    0    0    1    0 2020-10-03    0          0.0    0    0   0"
      ]
     },
     "execution_count": 9,
     "metadata": {},
     "output_type": "execute_result"
    }
   ],
   "source": [
    "cabbage_test_df = test_df[all_features]\n",
    "cabbage_test_df['예측'] = 0 \n",
    "cabbage_test_df.head()"
   ]
  },
  {
   "cell_type": "markdown",
   "metadata": {},
   "source": [
    "# 모델 생성용 피쳐"
   ]
  },
  {
   "cell_type": "code",
   "execution_count": 10,
   "metadata": {
    "ExecuteTime": {
     "end_time": "2022-01-12T14:05:39.216221Z",
     "start_time": "2022-01-12T14:05:39.202222Z"
    }
   },
   "outputs": [
    {
     "data": {
      "text/plain": [
       "{'residual', '금요일', '목요일', '배추_가격(원/kg)', '수요일', '월요일', '일요일', '토요일', '화요일'}"
      ]
     },
     "execution_count": 10,
     "metadata": {},
     "output_type": "execute_result"
    }
   ],
   "source": [
    "model_features = all_features - set(['date'])\n",
    "model_features.add('residual')\n",
    "model_features"
   ]
  },
  {
   "cell_type": "code",
   "execution_count": 11,
   "metadata": {
    "ExecuteTime": {
     "end_time": "2022-01-12T14:05:39.231223Z",
     "start_time": "2022-01-12T14:05:39.217222Z"
    }
   },
   "outputs": [],
   "source": [
    "my_minmax = MinMaxScaler()"
   ]
  },
  {
   "cell_type": "code",
   "execution_count": 12,
   "metadata": {
    "ExecuteTime": {
     "end_time": "2022-01-12T14:05:39.247221Z",
     "start_time": "2022-01-12T14:05:39.232224Z"
    }
   },
   "outputs": [],
   "source": [
    "train_df[list(model_features)] = my_minmax.fit_transform(train_df[list(model_features)])"
   ]
  },
  {
   "cell_type": "markdown",
   "metadata": {},
   "source": [
    "# 학습데이터 NaN 부분제거"
   ]
  },
  {
   "cell_type": "code",
   "execution_count": 13,
   "metadata": {
    "ExecuteTime": {
     "end_time": "2022-01-12T14:05:39.263224Z",
     "start_time": "2022-01-12T14:05:39.248223Z"
    }
   },
   "outputs": [
    {
     "data": {
      "text/html": [
       "<div>\n",
       "<style scoped>\n",
       "    .dataframe tbody tr th:only-of-type {\n",
       "        vertical-align: middle;\n",
       "    }\n",
       "\n",
       "    .dataframe tbody tr th {\n",
       "        vertical-align: top;\n",
       "    }\n",
       "\n",
       "    .dataframe thead th {\n",
       "        text-align: right;\n",
       "    }\n",
       "</style>\n",
       "<table border=\"1\" class=\"dataframe\">\n",
       "  <thead>\n",
       "    <tr style=\"text-align: right;\">\n",
       "      <th></th>\n",
       "      <th>월요일</th>\n",
       "      <th>일요일</th>\n",
       "      <th>토요일</th>\n",
       "      <th>금요일</th>\n",
       "      <th>date</th>\n",
       "      <th>수요일</th>\n",
       "      <th>배추_가격(원/kg)</th>\n",
       "      <th>화요일</th>\n",
       "      <th>목요일</th>\n",
       "      <th>7일 후</th>\n",
       "      <th>residual</th>\n",
       "    </tr>\n",
       "  </thead>\n",
       "  <tbody>\n",
       "    <tr>\n",
       "      <th>1716</th>\n",
       "      <td>0.0</td>\n",
       "      <td>0.0</td>\n",
       "      <td>1.0</td>\n",
       "      <td>0.0</td>\n",
       "      <td>2020-09-12</td>\n",
       "      <td>0.0</td>\n",
       "      <td>0.3496</td>\n",
       "      <td>0.0</td>\n",
       "      <td>0.0</td>\n",
       "      <td>1812.0</td>\n",
       "      <td>0.317480</td>\n",
       "    </tr>\n",
       "    <tr>\n",
       "      <th>1717</th>\n",
       "      <td>0.0</td>\n",
       "      <td>1.0</td>\n",
       "      <td>0.0</td>\n",
       "      <td>0.0</td>\n",
       "      <td>2020-09-13</td>\n",
       "      <td>0.0</td>\n",
       "      <td>0.0000</td>\n",
       "      <td>0.0</td>\n",
       "      <td>0.0</td>\n",
       "      <td>2925.0</td>\n",
       "      <td>0.012409</td>\n",
       "    </tr>\n",
       "    <tr>\n",
       "      <th>1718</th>\n",
       "      <td>1.0</td>\n",
       "      <td>0.0</td>\n",
       "      <td>0.0</td>\n",
       "      <td>0.0</td>\n",
       "      <td>2020-09-14</td>\n",
       "      <td>0.0</td>\n",
       "      <td>0.4084</td>\n",
       "      <td>0.0</td>\n",
       "      <td>0.0</td>\n",
       "      <td>1813.0</td>\n",
       "      <td>0.366676</td>\n",
       "    </tr>\n",
       "    <tr>\n",
       "      <th>1719</th>\n",
       "      <td>0.0</td>\n",
       "      <td>0.0</td>\n",
       "      <td>0.0</td>\n",
       "      <td>0.0</td>\n",
       "      <td>2020-09-15</td>\n",
       "      <td>0.0</td>\n",
       "      <td>0.4034</td>\n",
       "      <td>1.0</td>\n",
       "      <td>0.0</td>\n",
       "      <td>1838.0</td>\n",
       "      <td>0.209111</td>\n",
       "    </tr>\n",
       "    <tr>\n",
       "      <th>1720</th>\n",
       "      <td>0.0</td>\n",
       "      <td>0.0</td>\n",
       "      <td>0.0</td>\n",
       "      <td>0.0</td>\n",
       "      <td>2020-09-16</td>\n",
       "      <td>1.0</td>\n",
       "      <td>0.3878</td>\n",
       "      <td>0.0</td>\n",
       "      <td>0.0</td>\n",
       "      <td>1807.0</td>\n",
       "      <td>0.348318</td>\n",
       "    </tr>\n",
       "    <tr>\n",
       "      <th>1721</th>\n",
       "      <td>0.0</td>\n",
       "      <td>0.0</td>\n",
       "      <td>0.0</td>\n",
       "      <td>0.0</td>\n",
       "      <td>2020-09-17</td>\n",
       "      <td>0.0</td>\n",
       "      <td>0.3966</td>\n",
       "      <td>0.0</td>\n",
       "      <td>1.0</td>\n",
       "      <td>1839.0</td>\n",
       "      <td>0.260786</td>\n",
       "    </tr>\n",
       "    <tr>\n",
       "      <th>1722</th>\n",
       "      <td>0.0</td>\n",
       "      <td>0.0</td>\n",
       "      <td>0.0</td>\n",
       "      <td>1.0</td>\n",
       "      <td>2020-09-18</td>\n",
       "      <td>0.0</td>\n",
       "      <td>0.3678</td>\n",
       "      <td>0.0</td>\n",
       "      <td>0.0</td>\n",
       "      <td>1789.0</td>\n",
       "      <td>0.392283</td>\n",
       "    </tr>\n",
       "    <tr>\n",
       "      <th>1723</th>\n",
       "      <td>0.0</td>\n",
       "      <td>0.0</td>\n",
       "      <td>1.0</td>\n",
       "      <td>0.0</td>\n",
       "      <td>2020-09-19</td>\n",
       "      <td>0.0</td>\n",
       "      <td>0.3624</td>\n",
       "      <td>0.0</td>\n",
       "      <td>0.0</td>\n",
       "      <td>1760.0</td>\n",
       "      <td>0.206196</td>\n",
       "    </tr>\n",
       "    <tr>\n",
       "      <th>1724</th>\n",
       "      <td>0.0</td>\n",
       "      <td>1.0</td>\n",
       "      <td>0.0</td>\n",
       "      <td>0.0</td>\n",
       "      <td>2020-09-20</td>\n",
       "      <td>0.0</td>\n",
       "      <td>0.5850</td>\n",
       "      <td>0.0</td>\n",
       "      <td>0.0</td>\n",
       "      <td>3066.0</td>\n",
       "      <td>0.288483</td>\n",
       "    </tr>\n",
       "    <tr>\n",
       "      <th>1725</th>\n",
       "      <td>1.0</td>\n",
       "      <td>0.0</td>\n",
       "      <td>0.0</td>\n",
       "      <td>0.0</td>\n",
       "      <td>2020-09-21</td>\n",
       "      <td>0.0</td>\n",
       "      <td>0.3626</td>\n",
       "      <td>0.0</td>\n",
       "      <td>0.0</td>\n",
       "      <td>1867.0</td>\n",
       "      <td>0.211657</td>\n",
       "    </tr>\n",
       "  </tbody>\n",
       "</table>\n",
       "</div>"
      ],
      "text/plain": [
       "      월요일  일요일  토요일  금요일       date  수요일  배추_가격(원/kg)  화요일  목요일    7일 후  \\\n",
       "1716  0.0  0.0  1.0  0.0 2020-09-12  0.0       0.3496  0.0  0.0  1812.0   \n",
       "1717  0.0  1.0  0.0  0.0 2020-09-13  0.0       0.0000  0.0  0.0  2925.0   \n",
       "1718  1.0  0.0  0.0  0.0 2020-09-14  0.0       0.4084  0.0  0.0  1813.0   \n",
       "1719  0.0  0.0  0.0  0.0 2020-09-15  0.0       0.4034  1.0  0.0  1838.0   \n",
       "1720  0.0  0.0  0.0  0.0 2020-09-16  1.0       0.3878  0.0  0.0  1807.0   \n",
       "1721  0.0  0.0  0.0  0.0 2020-09-17  0.0       0.3966  0.0  1.0  1839.0   \n",
       "1722  0.0  0.0  0.0  1.0 2020-09-18  0.0       0.3678  0.0  0.0  1789.0   \n",
       "1723  0.0  0.0  1.0  0.0 2020-09-19  0.0       0.3624  0.0  0.0  1760.0   \n",
       "1724  0.0  1.0  0.0  0.0 2020-09-20  0.0       0.5850  0.0  0.0  3066.0   \n",
       "1725  1.0  0.0  0.0  0.0 2020-09-21  0.0       0.3626  0.0  0.0  1867.0   \n",
       "\n",
       "      residual  \n",
       "1716  0.317480  \n",
       "1717  0.012409  \n",
       "1718  0.366676  \n",
       "1719  0.209111  \n",
       "1720  0.348318  \n",
       "1721  0.260786  \n",
       "1722  0.392283  \n",
       "1723  0.206196  \n",
       "1724  0.288483  \n",
       "1725  0.211657  "
      ]
     },
     "execution_count": 13,
     "metadata": {},
     "output_type": "execute_result"
    }
   ],
   "source": [
    "cabbage_train_df = train_df.iloc[:-7]\n",
    "\n",
    "cabbage_train_df\n",
    "cabbage_train_df.tail(10)"
   ]
  },
  {
   "cell_type": "code",
   "execution_count": 14,
   "metadata": {
    "ExecuteTime": {
     "end_time": "2022-01-12T14:05:39.279221Z",
     "start_time": "2022-01-12T14:05:39.264224Z"
    }
   },
   "outputs": [],
   "source": [
    "X = cabbage_train_df[model_features].values.reshape(-1,1,len(model_features))"
   ]
  },
  {
   "cell_type": "code",
   "execution_count": 15,
   "metadata": {
    "ExecuteTime": {
     "end_time": "2022-01-12T14:05:39.295222Z",
     "start_time": "2022-01-12T14:05:39.280223Z"
    }
   },
   "outputs": [],
   "source": [
    "y = cabbage_train_df['7일 후'].values.reshape(-1,1,1)"
   ]
  },
  {
   "cell_type": "code",
   "execution_count": 16,
   "metadata": {
    "ExecuteTime": {
     "end_time": "2022-01-12T14:05:39.310221Z",
     "start_time": "2022-01-12T14:05:39.296223Z"
    }
   },
   "outputs": [
    {
     "data": {
      "text/plain": [
       "(1726, 1, 9)"
      ]
     },
     "execution_count": 16,
     "metadata": {},
     "output_type": "execute_result"
    }
   ],
   "source": [
    "X.shape"
   ]
  },
  {
   "cell_type": "code",
   "execution_count": 17,
   "metadata": {
    "ExecuteTime": {
     "end_time": "2022-01-12T14:05:39.326221Z",
     "start_time": "2022-01-12T14:05:39.311223Z"
    }
   },
   "outputs": [
    {
     "data": {
      "text/plain": [
       "(1726, 1, 1)"
      ]
     },
     "execution_count": 17,
     "metadata": {},
     "output_type": "execute_result"
    }
   ],
   "source": [
    "y.shape"
   ]
  },
  {
   "cell_type": "code",
   "execution_count": 19,
   "metadata": {
    "ExecuteTime": {
     "end_time": "2022-01-12T14:06:06.466681Z",
     "start_time": "2022-01-12T14:05:49.767170Z"
    }
   },
   "outputs": [],
   "source": [
    "with tf.device('/CPU:0'):\n",
    "    model = Sequential()\n",
    "    model.add(layers.Activation('relu'))\n",
    "    model.add(LSTM(100, input_shape=(21,len(model_features)), return_sequences=True))\n",
    "    model.add(Dropout(0.1))\n",
    "    model.add(layers.Dense(50))\n",
    "    model.add(Dropout(0.1))\n",
    "    model.add(Dropout(0.1))\n",
    "    model.add(layers.Dense(1))\n",
    "    model.compile(optimizer='adam', loss='mse')\n",
    "    early_stopping = EarlyStopping(patience=50)\n",
    "    model.fit(X, y, epochs=1000, batch_size=32, validation_split = 0.1, callbacks=[early_stopping], verbose=0)"
   ]
  },
  {
   "cell_type": "code",
   "execution_count": null,
   "metadata": {
    "ExecuteTime": {
     "end_time": "2022-01-12T14:05:40.053223Z",
     "start_time": "2022-01-12T14:05:40.053223Z"
    }
   },
   "outputs": [],
   "source": [
    "my_X = train_df.iloc[-7:][model_features].values.reshape(-1,1,len(model_features))"
   ]
  },
  {
   "cell_type": "code",
   "execution_count": null,
   "metadata": {
    "ExecuteTime": {
     "end_time": "2022-01-12T14:05:40.054222Z",
     "start_time": "2022-01-12T14:05:40.054222Z"
    }
   },
   "outputs": [],
   "source": [
    "predict_df = train_df.iloc[-7:][all_features]"
   ]
  },
  {
   "cell_type": "code",
   "execution_count": null,
   "metadata": {
    "ExecuteTime": {
     "end_time": "2022-01-12T14:05:40.055224Z",
     "start_time": "2022-01-12T14:05:40.055224Z"
    }
   },
   "outputs": [],
   "source": [
    "y_pred = model.predict(my_X)\n",
    "y_pred = list(y_pred.reshape(-1,1).flatten())\n",
    "predict_df['7일 후 예측'] = y_pred"
   ]
  },
  {
   "cell_type": "code",
   "execution_count": null,
   "metadata": {
    "ExecuteTime": {
     "end_time": "2022-01-12T14:05:40.056222Z",
     "start_time": "2022-01-12T14:05:40.056222Z"
    }
   },
   "outputs": [],
   "source": [
    "predict_df.iloc[2:6,-1] = 0"
   ]
  },
  {
   "cell_type": "code",
   "execution_count": null,
   "metadata": {
    "ExecuteTime": {
     "end_time": "2022-01-12T14:05:40.057222Z",
     "start_time": "2022-01-12T14:05:40.057222Z"
    }
   },
   "outputs": [],
   "source": [
    "predict_df['date'] = predict_df['date'].map(lambda x : x + relativedelta(days=7))"
   ]
  },
  {
   "cell_type": "code",
   "execution_count": null,
   "metadata": {
    "ExecuteTime": {
     "end_time": "2022-01-12T14:05:40.058224Z",
     "start_time": "2022-01-12T14:05:40.057222Z"
    },
    "cell_style": "split"
   },
   "outputs": [],
   "source": [
    "test_df.iloc[:7][['date',price_feature]]"
   ]
  },
  {
   "cell_type": "code",
   "execution_count": null,
   "metadata": {
    "ExecuteTime": {
     "end_time": "2022-01-12T14:05:40.058224Z",
     "start_time": "2022-01-12T14:05:40.058224Z"
    },
    "cell_style": "split"
   },
   "outputs": [],
   "source": [
    "predict_df[['date','7일 후 예측']]"
   ]
  },
  {
   "cell_type": "code",
   "execution_count": null,
   "metadata": {
    "ExecuteTime": {
     "end_time": "2022-01-12T14:05:40.060223Z",
     "start_time": "2022-01-12T14:05:40.060223Z"
    }
   },
   "outputs": [],
   "source": [
    "np.sqrt(mean_squared_error(test_df.iloc[:7][price_feature],predict_df['7일 후 예측']))"
   ]
  },
  {
   "cell_type": "code",
   "execution_count": null,
   "metadata": {
    "ExecuteTime": {
     "end_time": "2022-01-12T14:05:40.061225Z",
     "start_time": "2022-01-12T14:05:40.061225Z"
    }
   },
   "outputs": [],
   "source": [
    "mean_absolute_error(test_df.iloc[:7][price_feature],predict_df['7일 후 예측'])"
   ]
  },
  {
   "cell_type": "code",
   "execution_count": null,
   "metadata": {
    "ExecuteTime": {
     "end_time": "2022-01-12T14:05:40.062222Z",
     "start_time": "2022-01-12T14:05:40.062222Z"
    },
    "cell_style": "split"
   },
   "outputs": [],
   "source": [
    "predict_df"
   ]
  },
  {
   "cell_type": "code",
   "execution_count": null,
   "metadata": {
    "ExecuteTime": {
     "end_time": "2022-01-12T14:05:40.064222Z",
     "start_time": "2022-01-12T14:05:40.064222Z"
    },
    "cell_style": "split"
   },
   "outputs": [],
   "source": [
    "cabbage_train_df.head()"
   ]
  },
  {
   "cell_type": "code",
   "execution_count": null,
   "metadata": {
    "ExecuteTime": {
     "end_time": "2022-01-12T14:05:40.064222Z",
     "start_time": "2022-01-12T14:05:40.064222Z"
    }
   },
   "outputs": [],
   "source": [
    "cabbage_train_df['7일후 예측']= list(model.predict(X).reshape(-1,1).flatten())"
   ]
  },
  {
   "cell_type": "code",
   "execution_count": null,
   "metadata": {
    "ExecuteTime": {
     "end_time": "2022-01-12T14:05:40.065223Z",
     "start_time": "2022-01-12T14:05:40.065223Z"
    }
   },
   "outputs": [],
   "source": [
    "mean_absolute_error(cabbage_train_df['7일후 예측'],cabbage_train_df['7일 후'])"
   ]
  },
  {
   "cell_type": "code",
   "execution_count": null,
   "metadata": {
    "ExecuteTime": {
     "end_time": "2022-01-12T14:05:40.066223Z",
     "start_time": "2022-01-12T14:05:40.066223Z"
    }
   },
   "outputs": [],
   "source": [
    "np.sqrt(mean_squared_error(cabbage_train_df['7일후 예측'],cabbage_train_df['7일 후']))"
   ]
  },
  {
   "cell_type": "code",
   "execution_count": null,
   "metadata": {
    "ExecuteTime": {
     "end_time": "2022-01-12T14:05:40.068222Z",
     "start_time": "2022-01-12T14:05:40.068222Z"
    }
   },
   "outputs": [],
   "source": [
    "residual = cabbage_train_df['7일 후'] - cabbage_train_df['7일후 예측']"
   ]
  }
 ],
 "metadata": {
  "accelerator": "GPU",
  "colab": {
   "name": "gaon_nongsan.ipynb",
   "provenance": []
  },
  "kernelspec": {
   "display_name": "Python 3 (ipykernel)",
   "language": "python",
   "name": "python3"
  },
  "language_info": {
   "codemirror_mode": {
    "name": "ipython",
    "version": 3
   },
   "file_extension": ".py",
   "mimetype": "text/x-python",
   "name": "python",
   "nbconvert_exporter": "python",
   "pygments_lexer": "ipython3",
   "version": "3.7.11"
  },
  "toc": {
   "base_numbering": 1,
   "nav_menu": {},
   "number_sections": true,
   "sideBar": true,
   "skip_h1_title": false,
   "title_cell": "Table of Contents",
   "title_sidebar": "Contents",
   "toc_cell": false,
   "toc_position": {},
   "toc_section_display": true,
   "toc_window_display": false
  },
  "varInspector": {
   "cols": {
    "lenName": 16,
    "lenType": 16,
    "lenVar": 40
   },
   "kernels_config": {
    "python": {
     "delete_cmd_postfix": "",
     "delete_cmd_prefix": "del ",
     "library": "var_list.py",
     "varRefreshCmd": "print(var_dic_list())"
    },
    "r": {
     "delete_cmd_postfix": ") ",
     "delete_cmd_prefix": "rm(",
     "library": "var_list.r",
     "varRefreshCmd": "cat(var_dic_list()) "
    }
   },
   "types_to_exclude": [
    "module",
    "function",
    "builtin_function_or_method",
    "instance",
    "_Feature"
   ],
   "window_display": false
  }
 },
 "nbformat": 4,
 "nbformat_minor": 1
}
