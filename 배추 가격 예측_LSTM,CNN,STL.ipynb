{
 "cells": [
  {
   "cell_type": "markdown",
   "metadata": {
    "id": "j20NaN4I-AVK"
   },
   "source": [
    "# 라이브러리 "
   ]
  },
  {
   "cell_type": "markdown",
   "metadata": {},
   "source": [
    "## 텐서플로우"
   ]
  },
  {
   "cell_type": "code",
   "execution_count": 1,
   "metadata": {
    "ExecuteTime": {
     "end_time": "2022-01-12T15:39:07.473807Z",
     "start_time": "2022-01-12T15:39:04.608249Z"
    }
   },
   "outputs": [],
   "source": [
    "from tensorflow.keras import Sequential\n",
    "from tensorflow.keras import layers\n",
    "from tensorflow.keras.layers import Dense, LSTM, Dropout,GRU,Flatten,Conv1D,Conv2D,MaxPooling1D,MaxPooling2D\n",
    "from tensorflow.keras.callbacks import ModelCheckpoint, EarlyStopping"
   ]
  },
  {
   "cell_type": "markdown",
   "metadata": {},
   "source": [
    "## 사이킷런"
   ]
  },
  {
   "cell_type": "code",
   "execution_count": 2,
   "metadata": {
    "ExecuteTime": {
     "end_time": "2022-01-12T15:39:07.803214Z",
     "start_time": "2022-01-12T15:39:07.474808Z"
    }
   },
   "outputs": [],
   "source": [
    "from sklearn.preprocessing import MinMaxScaler, RobustScaler, MaxAbsScaler\n",
    "from sklearn.model_selection import train_test_split, RandomizedSearchCV\n",
    "from sklearn.metrics import mean_squared_error, r2_score, mean_absolute_error"
   ]
  },
  {
   "cell_type": "markdown",
   "metadata": {},
   "source": [
    "## 시계열"
   ]
  },
  {
   "cell_type": "code",
   "execution_count": 3,
   "metadata": {
    "ExecuteTime": {
     "end_time": "2022-01-12T15:39:07.865737Z",
     "start_time": "2022-01-12T15:39:07.804215Z"
    }
   },
   "outputs": [],
   "source": [
    "from datetime import datetime\n",
    "from datetime import timedelta\n",
    "from dateutil.relativedelta import relativedelta\n",
    "from statsmodels.tsa.seasonal import seasonal_decompose, STL\n",
    "import datetime\n",
    "from datetime import datetime"
   ]
  },
  {
   "cell_type": "markdown",
   "metadata": {},
   "source": [
    "## 시각화"
   ]
  },
  {
   "cell_type": "code",
   "execution_count": 4,
   "metadata": {
    "ExecuteTime": {
     "end_time": "2022-01-12T15:39:08.559130Z",
     "start_time": "2022-01-12T15:39:07.866739Z"
    }
   },
   "outputs": [],
   "source": [
    "import matplotlib.pyplot as plt\n",
    "plt.rc('font',family='Malgun Gothic')\n",
    "import matplotlib as mpl"
   ]
  },
  {
   "cell_type": "markdown",
   "metadata": {},
   "source": [
    "## 일반"
   ]
  },
  {
   "cell_type": "code",
   "execution_count": 5,
   "metadata": {
    "ExecuteTime": {
     "end_time": "2022-01-12T15:39:08.575131Z",
     "start_time": "2022-01-12T15:39:08.560129Z"
    },
    "id": "pVEPAI7W9fec"
   },
   "outputs": [],
   "source": [
    "import tensorflow as tf\n",
    "from numpy import array\n",
    "import pandas as pd\n",
    "import numpy as np\n",
    "import math\n",
    "import urllib.request\n",
    "import json\n",
    "import os\n",
    "import warnings\n",
    "warnings.filterwarnings('ignore')"
   ]
  },
  {
   "cell_type": "markdown",
   "metadata": {
    "id": "6fuVrRf7VOzx"
   },
   "source": [
    "# 2016.1.1 ~ 2020.9.28 농산물 Train 데이터 "
   ]
  },
  {
   "cell_type": "code",
   "execution_count": 6,
   "metadata": {
    "ExecuteTime": {
     "end_time": "2022-01-12T15:39:08.623130Z",
     "start_time": "2022-01-12T15:39:08.576130Z"
    },
    "id": "Qce92aIZVV-4"
   },
   "outputs": [
    {
     "data": {
      "text/html": [
       "<div>\n",
       "<style scoped>\n",
       "    .dataframe tbody tr th:only-of-type {\n",
       "        vertical-align: middle;\n",
       "    }\n",
       "\n",
       "    .dataframe tbody tr th {\n",
       "        vertical-align: top;\n",
       "    }\n",
       "\n",
       "    .dataframe thead th {\n",
       "        text-align: right;\n",
       "    }\n",
       "</style>\n",
       "<table border=\"1\" class=\"dataframe\">\n",
       "  <thead>\n",
       "    <tr style=\"text-align: right;\">\n",
       "      <th></th>\n",
       "      <th>date</th>\n",
       "      <th>배추_거래량(kg)</th>\n",
       "      <th>배추_가격(원/kg)</th>\n",
       "      <th>무_거래량(kg)</th>\n",
       "      <th>무_가격(원/kg)</th>\n",
       "      <th>양파_거래량(kg)</th>\n",
       "      <th>양파_가격(원/kg)</th>\n",
       "      <th>건고추_거래량(kg)</th>\n",
       "      <th>건고추_가격(원/kg)</th>\n",
       "      <th>마늘_거래량(kg)</th>\n",
       "      <th>...</th>\n",
       "      <th>캠벨얼리_가격(원/kg)</th>\n",
       "      <th>샤인마스캇_거래량(kg)</th>\n",
       "      <th>샤인마스캇_가격(원/kg)</th>\n",
       "      <th>금요일</th>\n",
       "      <th>목요일</th>\n",
       "      <th>수요일</th>\n",
       "      <th>월요일</th>\n",
       "      <th>일요일</th>\n",
       "      <th>토요일</th>\n",
       "      <th>화요일</th>\n",
       "    </tr>\n",
       "  </thead>\n",
       "  <tbody>\n",
       "    <tr>\n",
       "      <th>0</th>\n",
       "      <td>2016-01-01</td>\n",
       "      <td>0.0</td>\n",
       "      <td>0.0</td>\n",
       "      <td>0.0</td>\n",
       "      <td>0.0</td>\n",
       "      <td>0.0</td>\n",
       "      <td>0.0</td>\n",
       "      <td>0.0</td>\n",
       "      <td>0.0</td>\n",
       "      <td>0.0</td>\n",
       "      <td>...</td>\n",
       "      <td>0.0</td>\n",
       "      <td>0.0</td>\n",
       "      <td>0.0</td>\n",
       "      <td>1</td>\n",
       "      <td>0</td>\n",
       "      <td>0</td>\n",
       "      <td>0</td>\n",
       "      <td>0</td>\n",
       "      <td>0</td>\n",
       "      <td>0</td>\n",
       "    </tr>\n",
       "    <tr>\n",
       "      <th>1</th>\n",
       "      <td>2016-01-02</td>\n",
       "      <td>80860.0</td>\n",
       "      <td>329.0</td>\n",
       "      <td>80272.0</td>\n",
       "      <td>360.0</td>\n",
       "      <td>122787.5</td>\n",
       "      <td>1281.0</td>\n",
       "      <td>3.0</td>\n",
       "      <td>11000.0</td>\n",
       "      <td>15019.0</td>\n",
       "      <td>...</td>\n",
       "      <td>2014.0</td>\n",
       "      <td>0.0</td>\n",
       "      <td>0.0</td>\n",
       "      <td>0</td>\n",
       "      <td>0</td>\n",
       "      <td>0</td>\n",
       "      <td>0</td>\n",
       "      <td>0</td>\n",
       "      <td>1</td>\n",
       "      <td>0</td>\n",
       "    </tr>\n",
       "    <tr>\n",
       "      <th>2</th>\n",
       "      <td>2016-01-03</td>\n",
       "      <td>0.0</td>\n",
       "      <td>0.0</td>\n",
       "      <td>0.0</td>\n",
       "      <td>0.0</td>\n",
       "      <td>0.0</td>\n",
       "      <td>0.0</td>\n",
       "      <td>0.0</td>\n",
       "      <td>0.0</td>\n",
       "      <td>0.0</td>\n",
       "      <td>...</td>\n",
       "      <td>0.0</td>\n",
       "      <td>0.0</td>\n",
       "      <td>0.0</td>\n",
       "      <td>0</td>\n",
       "      <td>0</td>\n",
       "      <td>0</td>\n",
       "      <td>0</td>\n",
       "      <td>1</td>\n",
       "      <td>0</td>\n",
       "      <td>0</td>\n",
       "    </tr>\n",
       "    <tr>\n",
       "      <th>3</th>\n",
       "      <td>2016-01-04</td>\n",
       "      <td>1422742.5</td>\n",
       "      <td>478.0</td>\n",
       "      <td>1699653.7</td>\n",
       "      <td>382.0</td>\n",
       "      <td>2315079.0</td>\n",
       "      <td>1235.0</td>\n",
       "      <td>699.0</td>\n",
       "      <td>4464.0</td>\n",
       "      <td>141638.0</td>\n",
       "      <td>...</td>\n",
       "      <td>3885.0</td>\n",
       "      <td>0.0</td>\n",
       "      <td>0.0</td>\n",
       "      <td>0</td>\n",
       "      <td>0</td>\n",
       "      <td>0</td>\n",
       "      <td>1</td>\n",
       "      <td>0</td>\n",
       "      <td>0</td>\n",
       "      <td>0</td>\n",
       "    </tr>\n",
       "    <tr>\n",
       "      <th>4</th>\n",
       "      <td>2016-01-05</td>\n",
       "      <td>1167241.0</td>\n",
       "      <td>442.0</td>\n",
       "      <td>1423482.3</td>\n",
       "      <td>422.0</td>\n",
       "      <td>2092960.1</td>\n",
       "      <td>1213.0</td>\n",
       "      <td>1112.6</td>\n",
       "      <td>4342.0</td>\n",
       "      <td>126207.8</td>\n",
       "      <td>...</td>\n",
       "      <td>2853.0</td>\n",
       "      <td>0.0</td>\n",
       "      <td>0.0</td>\n",
       "      <td>0</td>\n",
       "      <td>0</td>\n",
       "      <td>0</td>\n",
       "      <td>0</td>\n",
       "      <td>0</td>\n",
       "      <td>0</td>\n",
       "      <td>1</td>\n",
       "    </tr>\n",
       "  </tbody>\n",
       "</table>\n",
       "<p>5 rows × 50 columns</p>\n",
       "</div>"
      ],
      "text/plain": [
       "        date  배추_거래량(kg)  배추_가격(원/kg)  무_거래량(kg)  무_가격(원/kg)  양파_거래량(kg)  \\\n",
       "0 2016-01-01         0.0          0.0        0.0         0.0         0.0   \n",
       "1 2016-01-02     80860.0        329.0    80272.0       360.0    122787.5   \n",
       "2 2016-01-03         0.0          0.0        0.0         0.0         0.0   \n",
       "3 2016-01-04   1422742.5        478.0  1699653.7       382.0   2315079.0   \n",
       "4 2016-01-05   1167241.0        442.0  1423482.3       422.0   2092960.1   \n",
       "\n",
       "   양파_가격(원/kg)  건고추_거래량(kg)  건고추_가격(원/kg)  마늘_거래량(kg)  ...  캠벨얼리_가격(원/kg)  \\\n",
       "0          0.0          0.0           0.0         0.0  ...            0.0   \n",
       "1       1281.0          3.0       11000.0     15019.0  ...         2014.0   \n",
       "2          0.0          0.0           0.0         0.0  ...            0.0   \n",
       "3       1235.0        699.0        4464.0    141638.0  ...         3885.0   \n",
       "4       1213.0       1112.6        4342.0    126207.8  ...         2853.0   \n",
       "\n",
       "   샤인마스캇_거래량(kg)  샤인마스캇_가격(원/kg)  금요일  목요일  수요일  월요일  일요일  토요일  화요일  \n",
       "0            0.0             0.0    1    0    0    0    0    0    0  \n",
       "1            0.0             0.0    0    0    0    0    0    1    0  \n",
       "2            0.0             0.0    0    0    0    0    1    0    0  \n",
       "3            0.0             0.0    0    0    0    1    0    0    0  \n",
       "4            0.0             0.0    0    0    0    0    0    0    1  \n",
       "\n",
       "[5 rows x 50 columns]"
      ]
     },
     "execution_count": 6,
     "metadata": {},
     "output_type": "execute_result"
    }
   ],
   "source": [
    "# train data set 불러오기\n",
    "\n",
    "train_df = pd.read_csv('nongsan_data/public_data/train.csv', encoding='utf-8')\n",
    "train_df['date'] = pd.to_datetime(train_df['date'])\n",
    "train_df.index = train_df['date']\n",
    "train_df = train_df.drop('date',axis=1)\n",
    "train_df.index.freq = 'D'\n",
    "train_df = train_df.interpolate(method='linear').fillna(0)\n",
    "train_df = train_df.reset_index()\n",
    "train_df = pd.concat([train_df,pd.get_dummies(train_df['요일'])],axis=1)\n",
    "train_df = train_df.drop('요일',axis=1)\n",
    "train_df.head()"
   ]
  },
  {
   "cell_type": "markdown",
   "metadata": {},
   "source": [
    "# 2020.9.29 ~ 2020.11.04 농산물 Test 데이터 "
   ]
  },
  {
   "cell_type": "code",
   "execution_count": 7,
   "metadata": {
    "ExecuteTime": {
     "end_time": "2022-01-12T15:39:08.655128Z",
     "start_time": "2022-01-12T15:39:08.624130Z"
    },
    "id": "rl_iqps3VhRl"
   },
   "outputs": [
    {
     "data": {
      "text/html": [
       "<div>\n",
       "<style scoped>\n",
       "    .dataframe tbody tr th:only-of-type {\n",
       "        vertical-align: middle;\n",
       "    }\n",
       "\n",
       "    .dataframe tbody tr th {\n",
       "        vertical-align: top;\n",
       "    }\n",
       "\n",
       "    .dataframe thead th {\n",
       "        text-align: right;\n",
       "    }\n",
       "</style>\n",
       "<table border=\"1\" class=\"dataframe\">\n",
       "  <thead>\n",
       "    <tr style=\"text-align: right;\">\n",
       "      <th></th>\n",
       "      <th>date</th>\n",
       "      <th>배추_거래량(kg)</th>\n",
       "      <th>배추_가격(원/kg)</th>\n",
       "      <th>무_거래량(kg)</th>\n",
       "      <th>무_가격(원/kg)</th>\n",
       "      <th>양파_거래량(kg)</th>\n",
       "      <th>양파_가격(원/kg)</th>\n",
       "      <th>건고추_거래량(kg)</th>\n",
       "      <th>건고추_가격(원/kg)</th>\n",
       "      <th>마늘_거래량(kg)</th>\n",
       "      <th>...</th>\n",
       "      <th>캠벨얼리_가격(원/kg)</th>\n",
       "      <th>샤인마스캇_거래량(kg)</th>\n",
       "      <th>샤인마스캇_가격(원/kg)</th>\n",
       "      <th>금요일</th>\n",
       "      <th>목요일</th>\n",
       "      <th>수요일</th>\n",
       "      <th>월요일</th>\n",
       "      <th>일요일</th>\n",
       "      <th>토요일</th>\n",
       "      <th>화요일</th>\n",
       "    </tr>\n",
       "  </thead>\n",
       "  <tbody>\n",
       "    <tr>\n",
       "      <th>0</th>\n",
       "      <td>2020-09-29</td>\n",
       "      <td>2064183.3</td>\n",
       "      <td>1787.0</td>\n",
       "      <td>2424383.2</td>\n",
       "      <td>1190.0</td>\n",
       "      <td>1209647.0</td>\n",
       "      <td>966.0</td>\n",
       "      <td>2842.8</td>\n",
       "      <td>25873.0</td>\n",
       "      <td>160209.8</td>\n",
       "      <td>...</td>\n",
       "      <td>3937.0</td>\n",
       "      <td>259765.0</td>\n",
       "      <td>11400.0</td>\n",
       "      <td>0</td>\n",
       "      <td>0</td>\n",
       "      <td>0</td>\n",
       "      <td>0</td>\n",
       "      <td>0</td>\n",
       "      <td>0</td>\n",
       "      <td>1</td>\n",
       "    </tr>\n",
       "    <tr>\n",
       "      <th>1</th>\n",
       "      <td>2020-09-30</td>\n",
       "      <td>259065.3</td>\n",
       "      <td>1551.0</td>\n",
       "      <td>1044460.0</td>\n",
       "      <td>984.0</td>\n",
       "      <td>136696.4</td>\n",
       "      <td>857.0</td>\n",
       "      <td>35.0</td>\n",
       "      <td>9929.0</td>\n",
       "      <td>48296.7</td>\n",
       "      <td>...</td>\n",
       "      <td>3885.0</td>\n",
       "      <td>121859.6</td>\n",
       "      <td>11649.0</td>\n",
       "      <td>0</td>\n",
       "      <td>0</td>\n",
       "      <td>1</td>\n",
       "      <td>0</td>\n",
       "      <td>0</td>\n",
       "      <td>0</td>\n",
       "      <td>0</td>\n",
       "    </tr>\n",
       "    <tr>\n",
       "      <th>2</th>\n",
       "      <td>2020-10-01</td>\n",
       "      <td>0.0</td>\n",
       "      <td>0.0</td>\n",
       "      <td>0.0</td>\n",
       "      <td>0.0</td>\n",
       "      <td>0.0</td>\n",
       "      <td>0.0</td>\n",
       "      <td>0.0</td>\n",
       "      <td>0.0</td>\n",
       "      <td>0.0</td>\n",
       "      <td>...</td>\n",
       "      <td>0.0</td>\n",
       "      <td>0.0</td>\n",
       "      <td>0.0</td>\n",
       "      <td>0</td>\n",
       "      <td>1</td>\n",
       "      <td>0</td>\n",
       "      <td>0</td>\n",
       "      <td>0</td>\n",
       "      <td>0</td>\n",
       "      <td>0</td>\n",
       "    </tr>\n",
       "    <tr>\n",
       "      <th>3</th>\n",
       "      <td>2020-10-02</td>\n",
       "      <td>0.0</td>\n",
       "      <td>0.0</td>\n",
       "      <td>0.0</td>\n",
       "      <td>0.0</td>\n",
       "      <td>0.0</td>\n",
       "      <td>0.0</td>\n",
       "      <td>0.0</td>\n",
       "      <td>0.0</td>\n",
       "      <td>0.0</td>\n",
       "      <td>...</td>\n",
       "      <td>0.0</td>\n",
       "      <td>0.0</td>\n",
       "      <td>0.0</td>\n",
       "      <td>1</td>\n",
       "      <td>0</td>\n",
       "      <td>0</td>\n",
       "      <td>0</td>\n",
       "      <td>0</td>\n",
       "      <td>0</td>\n",
       "      <td>0</td>\n",
       "    </tr>\n",
       "    <tr>\n",
       "      <th>4</th>\n",
       "      <td>2020-10-03</td>\n",
       "      <td>0.0</td>\n",
       "      <td>0.0</td>\n",
       "      <td>3100.0</td>\n",
       "      <td>835.0</td>\n",
       "      <td>0.0</td>\n",
       "      <td>0.0</td>\n",
       "      <td>0.0</td>\n",
       "      <td>0.0</td>\n",
       "      <td>0.0</td>\n",
       "      <td>...</td>\n",
       "      <td>0.0</td>\n",
       "      <td>0.0</td>\n",
       "      <td>0.0</td>\n",
       "      <td>0</td>\n",
       "      <td>0</td>\n",
       "      <td>0</td>\n",
       "      <td>0</td>\n",
       "      <td>0</td>\n",
       "      <td>1</td>\n",
       "      <td>0</td>\n",
       "    </tr>\n",
       "  </tbody>\n",
       "</table>\n",
       "<p>5 rows × 50 columns</p>\n",
       "</div>"
      ],
      "text/plain": [
       "        date  배추_거래량(kg)  배추_가격(원/kg)  무_거래량(kg)  무_가격(원/kg)  양파_거래량(kg)  \\\n",
       "0 2020-09-29   2064183.3       1787.0  2424383.2      1190.0   1209647.0   \n",
       "1 2020-09-30    259065.3       1551.0  1044460.0       984.0    136696.4   \n",
       "2 2020-10-01         0.0          0.0        0.0         0.0         0.0   \n",
       "3 2020-10-02         0.0          0.0        0.0         0.0         0.0   \n",
       "4 2020-10-03         0.0          0.0     3100.0       835.0         0.0   \n",
       "\n",
       "   양파_가격(원/kg)  건고추_거래량(kg)  건고추_가격(원/kg)  마늘_거래량(kg)  ...  캠벨얼리_가격(원/kg)  \\\n",
       "0        966.0       2842.8       25873.0    160209.8  ...         3937.0   \n",
       "1        857.0         35.0        9929.0     48296.7  ...         3885.0   \n",
       "2          0.0          0.0           0.0         0.0  ...            0.0   \n",
       "3          0.0          0.0           0.0         0.0  ...            0.0   \n",
       "4          0.0          0.0           0.0         0.0  ...            0.0   \n",
       "\n",
       "   샤인마스캇_거래량(kg)  샤인마스캇_가격(원/kg)  금요일  목요일  수요일  월요일  일요일  토요일  화요일  \n",
       "0       259765.0         11400.0    0    0    0    0    0    0    1  \n",
       "1       121859.6         11649.0    0    0    1    0    0    0    0  \n",
       "2            0.0             0.0    0    1    0    0    0    0    0  \n",
       "3            0.0             0.0    1    0    0    0    0    0    0  \n",
       "4            0.0             0.0    0    0    0    0    0    1    0  \n",
       "\n",
       "[5 rows x 50 columns]"
      ]
     },
     "execution_count": 7,
     "metadata": {},
     "output_type": "execute_result"
    }
   ],
   "source": [
    "# testdata set 불러오기\n",
    "\n",
    "test_df = pd.read_csv('nongsan_data/public_data/test_files/test_2020-11-05.csv', encoding='utf-8')\n",
    "test_df['date'] = pd.to_datetime(test_df['date'])\n",
    "test_df.index = test_df['date']\n",
    "test_df = test_df.drop('date',axis=1)\n",
    "test_df.index.freq = 'D'\n",
    "test_df = test_df.reset_index()\n",
    "test_df = pd.concat([test_df,pd.get_dummies(test_df['요일'])],axis=1)\n",
    "test_df = test_df.drop('요일',axis=1)\n",
    "test_df.head()"
   ]
  },
  {
   "cell_type": "markdown",
   "metadata": {},
   "source": [
    "# 사용할 변수 지정"
   ]
  },
  {
   "cell_type": "code",
   "execution_count": 8,
   "metadata": {
    "ExecuteTime": {
     "end_time": "2022-01-12T15:39:08.671128Z",
     "start_time": "2022-01-12T15:39:08.656129Z"
    }
   },
   "outputs": [],
   "source": [
    "week_names = ['월요일','화요일','수요일','목요일','금요일','토요일','일요일']"
   ]
  },
  {
   "cell_type": "markdown",
   "metadata": {},
   "source": [
    "## 농산물별 자동으로 변수 만들어주는 함수"
   ]
  },
  {
   "cell_type": "code",
   "execution_count": 9,
   "metadata": {
    "ExecuteTime": {
     "end_time": "2022-01-12T15:39:08.686131Z",
     "start_time": "2022-01-12T15:39:08.672130Z"
    }
   },
   "outputs": [],
   "source": [
    "def set_feature_per_item(item):\n",
    "    price_feature = f'{item}_가격(원/kg)'\n",
    "    quantity_feature = f'{item}_거래량(kg)'\n",
    "    all_features = [price_feature,quantity_feature]\n",
    "    all_features.extend(week_names)\n",
    "    \n",
    "    return price_feature,quantity_feature,set(all_features)"
   ]
  },
  {
   "cell_type": "code",
   "execution_count": 10,
   "metadata": {
    "ExecuteTime": {
     "end_time": "2022-01-12T15:39:08.702129Z",
     "start_time": "2022-01-12T15:39:08.688130Z"
    }
   },
   "outputs": [
    {
     "data": {
      "text/plain": [
       "('배추_가격(원/kg)',\n",
       " '배추_거래량(kg)',\n",
       " {'금요일',\n",
       "  '목요일',\n",
       "  '배추_가격(원/kg)',\n",
       "  '배추_거래량(kg)',\n",
       "  '수요일',\n",
       "  '월요일',\n",
       "  '일요일',\n",
       "  '토요일',\n",
       "  '화요일'})"
      ]
     },
     "execution_count": 10,
     "metadata": {},
     "output_type": "execute_result"
    }
   ],
   "source": [
    "price_feature , quantity_feature , all_features = set_feature_per_item('배추')\n",
    "price_feature , quantity_feature , all_features"
   ]
  },
  {
   "cell_type": "markdown",
   "metadata": {},
   "source": [
    "## 모든 필요한 변수에 날짜 넣고, 필요없는 거래량 빼줌"
   ]
  },
  {
   "cell_type": "code",
   "execution_count": 11,
   "metadata": {
    "ExecuteTime": {
     "end_time": "2022-01-12T15:39:08.718129Z",
     "start_time": "2022-01-12T15:39:08.703129Z"
    }
   },
   "outputs": [],
   "source": [
    "all_features.add('date')\n",
    "#all_features = all_features - set(['배추_거래량(kg)'])"
   ]
  },
  {
   "cell_type": "markdown",
   "metadata": {},
   "source": [
    "## 훈련용 데이터 7일 후의 배추가격을 target으로 지정"
   ]
  },
  {
   "cell_type": "code",
   "execution_count": 12,
   "metadata": {
    "ExecuteTime": {
     "end_time": "2022-01-12T15:39:08.779271Z",
     "start_time": "2022-01-12T15:39:08.719251Z"
    }
   },
   "outputs": [
    {
     "data": {
      "text/html": [
       "<div>\n",
       "<style scoped>\n",
       "    .dataframe tbody tr th:only-of-type {\n",
       "        vertical-align: middle;\n",
       "    }\n",
       "\n",
       "    .dataframe tbody tr th {\n",
       "        vertical-align: top;\n",
       "    }\n",
       "\n",
       "    .dataframe thead th {\n",
       "        text-align: right;\n",
       "    }\n",
       "</style>\n",
       "<table border=\"1\" class=\"dataframe\">\n",
       "  <thead>\n",
       "    <tr style=\"text-align: right;\">\n",
       "      <th></th>\n",
       "      <th>배추_가격(원/kg)</th>\n",
       "      <th>월요일</th>\n",
       "      <th>목요일</th>\n",
       "      <th>금요일</th>\n",
       "      <th>수요일</th>\n",
       "      <th>배추_거래량(kg)</th>\n",
       "      <th>토요일</th>\n",
       "      <th>date</th>\n",
       "      <th>화요일</th>\n",
       "      <th>일요일</th>\n",
       "      <th>7일 후</th>\n",
       "      <th>residual</th>\n",
       "    </tr>\n",
       "  </thead>\n",
       "  <tbody>\n",
       "    <tr>\n",
       "      <th>1728</th>\n",
       "      <td>1839.0</td>\n",
       "      <td>0</td>\n",
       "      <td>1</td>\n",
       "      <td>0</td>\n",
       "      <td>0</td>\n",
       "      <td>1856965.0</td>\n",
       "      <td>0</td>\n",
       "      <td>2020-09-24</td>\n",
       "      <td>0</td>\n",
       "      <td>0</td>\n",
       "      <td>NaN</td>\n",
       "      <td>-152.919637</td>\n",
       "    </tr>\n",
       "    <tr>\n",
       "      <th>1729</th>\n",
       "      <td>1789.0</td>\n",
       "      <td>0</td>\n",
       "      <td>0</td>\n",
       "      <td>1</td>\n",
       "      <td>0</td>\n",
       "      <td>1880095.5</td>\n",
       "      <td>0</td>\n",
       "      <td>2020-09-25</td>\n",
       "      <td>0</td>\n",
       "      <td>0</td>\n",
       "      <td>NaN</td>\n",
       "      <td>563.415158</td>\n",
       "    </tr>\n",
       "    <tr>\n",
       "      <th>1730</th>\n",
       "      <td>1760.0</td>\n",
       "      <td>0</td>\n",
       "      <td>0</td>\n",
       "      <td>0</td>\n",
       "      <td>0</td>\n",
       "      <td>1661090.9</td>\n",
       "      <td>1</td>\n",
       "      <td>2020-09-26</td>\n",
       "      <td>0</td>\n",
       "      <td>0</td>\n",
       "      <td>NaN</td>\n",
       "      <td>-359.340205</td>\n",
       "    </tr>\n",
       "    <tr>\n",
       "      <th>1731</th>\n",
       "      <td>3066.0</td>\n",
       "      <td>0</td>\n",
       "      <td>0</td>\n",
       "      <td>0</td>\n",
       "      <td>0</td>\n",
       "      <td>25396.0</td>\n",
       "      <td>0</td>\n",
       "      <td>2020-09-27</td>\n",
       "      <td>0</td>\n",
       "      <td>1</td>\n",
       "      <td>NaN</td>\n",
       "      <td>204.297484</td>\n",
       "    </tr>\n",
       "    <tr>\n",
       "      <th>1732</th>\n",
       "      <td>1867.0</td>\n",
       "      <td>1</td>\n",
       "      <td>0</td>\n",
       "      <td>0</td>\n",
       "      <td>0</td>\n",
       "      <td>2405051.9</td>\n",
       "      <td>0</td>\n",
       "      <td>2020-09-28</td>\n",
       "      <td>0</td>\n",
       "      <td>0</td>\n",
       "      <td>NaN</td>\n",
       "      <td>-232.379198</td>\n",
       "    </tr>\n",
       "  </tbody>\n",
       "</table>\n",
       "</div>"
      ],
      "text/plain": [
       "      배추_가격(원/kg)  월요일  목요일  금요일  수요일  배추_거래량(kg)  토요일       date  화요일  일요일  \\\n",
       "1728       1839.0    0    1    0    0   1856965.0    0 2020-09-24    0    0   \n",
       "1729       1789.0    0    0    1    0   1880095.5    0 2020-09-25    0    0   \n",
       "1730       1760.0    0    0    0    0   1661090.9    1 2020-09-26    0    0   \n",
       "1731       3066.0    0    0    0    0     25396.0    0 2020-09-27    0    1   \n",
       "1732       1867.0    1    0    0    0   2405051.9    0 2020-09-28    0    0   \n",
       "\n",
       "      7일 후    residual  \n",
       "1728   NaN -152.919637  \n",
       "1729   NaN  563.415158  \n",
       "1730   NaN -359.340205  \n",
       "1731   NaN  204.297484  \n",
       "1732   NaN -232.379198  "
      ]
     },
     "execution_count": 12,
     "metadata": {},
     "output_type": "execute_result"
    }
   ],
   "source": [
    "train_df = train_df[all_features]\n",
    "train_df['7일 후'] = train_df[price_feature].shift(-7)\n",
    "train_df['residual'] = 0\n",
    "stl = STL(train_df[['date', price_feature]].set_index('date'), period=12)\n",
    "res = stl.fit()\n",
    "train_df['residual'] = res.resid.values\n",
    "train_df.tail()"
   ]
  },
  {
   "cell_type": "code",
   "execution_count": 13,
   "metadata": {
    "ExecuteTime": {
     "end_time": "2022-01-12T15:39:08.795129Z",
     "start_time": "2022-01-12T15:39:08.780129Z"
    }
   },
   "outputs": [
    {
     "data": {
      "text/html": [
       "<div>\n",
       "<style scoped>\n",
       "    .dataframe tbody tr th:only-of-type {\n",
       "        vertical-align: middle;\n",
       "    }\n",
       "\n",
       "    .dataframe tbody tr th {\n",
       "        vertical-align: top;\n",
       "    }\n",
       "\n",
       "    .dataframe thead th {\n",
       "        text-align: right;\n",
       "    }\n",
       "</style>\n",
       "<table border=\"1\" class=\"dataframe\">\n",
       "  <thead>\n",
       "    <tr style=\"text-align: right;\">\n",
       "      <th></th>\n",
       "      <th>배추_가격(원/kg)</th>\n",
       "      <th>월요일</th>\n",
       "      <th>목요일</th>\n",
       "      <th>금요일</th>\n",
       "      <th>수요일</th>\n",
       "      <th>배추_거래량(kg)</th>\n",
       "      <th>토요일</th>\n",
       "      <th>date</th>\n",
       "      <th>화요일</th>\n",
       "      <th>일요일</th>\n",
       "      <th>7일 후</th>\n",
       "      <th>residual</th>\n",
       "    </tr>\n",
       "  </thead>\n",
       "  <tbody>\n",
       "    <tr>\n",
       "      <th>1728</th>\n",
       "      <td>1839.0</td>\n",
       "      <td>0</td>\n",
       "      <td>1</td>\n",
       "      <td>0</td>\n",
       "      <td>0</td>\n",
       "      <td>-150506.3</td>\n",
       "      <td>0</td>\n",
       "      <td>2020-09-24</td>\n",
       "      <td>0</td>\n",
       "      <td>0</td>\n",
       "      <td>NaN</td>\n",
       "      <td>-152.919637</td>\n",
       "    </tr>\n",
       "    <tr>\n",
       "      <th>1729</th>\n",
       "      <td>1789.0</td>\n",
       "      <td>0</td>\n",
       "      <td>0</td>\n",
       "      <td>1</td>\n",
       "      <td>0</td>\n",
       "      <td>23130.5</td>\n",
       "      <td>0</td>\n",
       "      <td>2020-09-25</td>\n",
       "      <td>0</td>\n",
       "      <td>0</td>\n",
       "      <td>NaN</td>\n",
       "      <td>563.415158</td>\n",
       "    </tr>\n",
       "    <tr>\n",
       "      <th>1730</th>\n",
       "      <td>1760.0</td>\n",
       "      <td>0</td>\n",
       "      <td>0</td>\n",
       "      <td>0</td>\n",
       "      <td>0</td>\n",
       "      <td>-219004.6</td>\n",
       "      <td>1</td>\n",
       "      <td>2020-09-26</td>\n",
       "      <td>0</td>\n",
       "      <td>0</td>\n",
       "      <td>NaN</td>\n",
       "      <td>-359.340205</td>\n",
       "    </tr>\n",
       "    <tr>\n",
       "      <th>1731</th>\n",
       "      <td>3066.0</td>\n",
       "      <td>0</td>\n",
       "      <td>0</td>\n",
       "      <td>0</td>\n",
       "      <td>0</td>\n",
       "      <td>-1635694.9</td>\n",
       "      <td>0</td>\n",
       "      <td>2020-09-27</td>\n",
       "      <td>0</td>\n",
       "      <td>1</td>\n",
       "      <td>NaN</td>\n",
       "      <td>204.297484</td>\n",
       "    </tr>\n",
       "    <tr>\n",
       "      <th>1732</th>\n",
       "      <td>1867.0</td>\n",
       "      <td>1</td>\n",
       "      <td>0</td>\n",
       "      <td>0</td>\n",
       "      <td>0</td>\n",
       "      <td>2379655.9</td>\n",
       "      <td>0</td>\n",
       "      <td>2020-09-28</td>\n",
       "      <td>0</td>\n",
       "      <td>0</td>\n",
       "      <td>NaN</td>\n",
       "      <td>-232.379198</td>\n",
       "    </tr>\n",
       "  </tbody>\n",
       "</table>\n",
       "</div>"
      ],
      "text/plain": [
       "      배추_가격(원/kg)  월요일  목요일  금요일  수요일  배추_거래량(kg)  토요일       date  화요일  일요일  \\\n",
       "1728       1839.0    0    1    0    0   -150506.3    0 2020-09-24    0    0   \n",
       "1729       1789.0    0    0    1    0     23130.5    0 2020-09-25    0    0   \n",
       "1730       1760.0    0    0    0    0   -219004.6    1 2020-09-26    0    0   \n",
       "1731       3066.0    0    0    0    0  -1635694.9    0 2020-09-27    0    1   \n",
       "1732       1867.0    1    0    0    0   2379655.9    0 2020-09-28    0    0   \n",
       "\n",
       "      7일 후    residual  \n",
       "1728   NaN -152.919637  \n",
       "1729   NaN  563.415158  \n",
       "1730   NaN -359.340205  \n",
       "1731   NaN  204.297484  \n",
       "1732   NaN -232.379198  "
      ]
     },
     "execution_count": 13,
     "metadata": {},
     "output_type": "execute_result"
    }
   ],
   "source": [
    "train_df['배추_거래량(kg)'] = train_df['배추_거래량(kg)'] - train_df['배추_거래량(kg)'].shift(1)\n",
    "train_df.tail()"
   ]
  },
  {
   "cell_type": "code",
   "execution_count": 14,
   "metadata": {
    "ExecuteTime": {
     "end_time": "2022-01-12T15:39:08.811130Z",
     "start_time": "2022-01-12T15:39:08.796129Z"
    }
   },
   "outputs": [],
   "source": [
    "train_df = train_df.iloc[1:]"
   ]
  },
  {
   "cell_type": "code",
   "execution_count": 15,
   "metadata": {
    "ExecuteTime": {
     "end_time": "2022-01-12T15:39:08.827131Z",
     "start_time": "2022-01-12T15:39:08.812131Z"
    }
   },
   "outputs": [],
   "source": [
    "train_df['배추_거래량(kg)'] = train_df['배추_거래량(kg)'].map(lambda x: np.abs(x))"
   ]
  },
  {
   "cell_type": "code",
   "execution_count": 16,
   "metadata": {
    "ExecuteTime": {
     "end_time": "2022-01-12T15:39:08.842129Z",
     "start_time": "2022-01-12T15:39:08.828130Z"
    }
   },
   "outputs": [
    {
     "data": {
      "text/html": [
       "<div>\n",
       "<style scoped>\n",
       "    .dataframe tbody tr th:only-of-type {\n",
       "        vertical-align: middle;\n",
       "    }\n",
       "\n",
       "    .dataframe tbody tr th {\n",
       "        vertical-align: top;\n",
       "    }\n",
       "\n",
       "    .dataframe thead th {\n",
       "        text-align: right;\n",
       "    }\n",
       "</style>\n",
       "<table border=\"1\" class=\"dataframe\">\n",
       "  <thead>\n",
       "    <tr style=\"text-align: right;\">\n",
       "      <th></th>\n",
       "      <th>배추_가격(원/kg)</th>\n",
       "      <th>월요일</th>\n",
       "      <th>목요일</th>\n",
       "      <th>금요일</th>\n",
       "      <th>수요일</th>\n",
       "      <th>배추_거래량(kg)</th>\n",
       "      <th>토요일</th>\n",
       "      <th>date</th>\n",
       "      <th>화요일</th>\n",
       "      <th>일요일</th>\n",
       "      <th>7일 후</th>\n",
       "      <th>residual</th>\n",
       "    </tr>\n",
       "  </thead>\n",
       "  <tbody>\n",
       "    <tr>\n",
       "      <th>1728</th>\n",
       "      <td>1839.0</td>\n",
       "      <td>0</td>\n",
       "      <td>1</td>\n",
       "      <td>0</td>\n",
       "      <td>0</td>\n",
       "      <td>150506.3</td>\n",
       "      <td>0</td>\n",
       "      <td>2020-09-24</td>\n",
       "      <td>0</td>\n",
       "      <td>0</td>\n",
       "      <td>NaN</td>\n",
       "      <td>-152.919637</td>\n",
       "    </tr>\n",
       "    <tr>\n",
       "      <th>1729</th>\n",
       "      <td>1789.0</td>\n",
       "      <td>0</td>\n",
       "      <td>0</td>\n",
       "      <td>1</td>\n",
       "      <td>0</td>\n",
       "      <td>23130.5</td>\n",
       "      <td>0</td>\n",
       "      <td>2020-09-25</td>\n",
       "      <td>0</td>\n",
       "      <td>0</td>\n",
       "      <td>NaN</td>\n",
       "      <td>563.415158</td>\n",
       "    </tr>\n",
       "    <tr>\n",
       "      <th>1730</th>\n",
       "      <td>1760.0</td>\n",
       "      <td>0</td>\n",
       "      <td>0</td>\n",
       "      <td>0</td>\n",
       "      <td>0</td>\n",
       "      <td>219004.6</td>\n",
       "      <td>1</td>\n",
       "      <td>2020-09-26</td>\n",
       "      <td>0</td>\n",
       "      <td>0</td>\n",
       "      <td>NaN</td>\n",
       "      <td>-359.340205</td>\n",
       "    </tr>\n",
       "    <tr>\n",
       "      <th>1731</th>\n",
       "      <td>3066.0</td>\n",
       "      <td>0</td>\n",
       "      <td>0</td>\n",
       "      <td>0</td>\n",
       "      <td>0</td>\n",
       "      <td>1635694.9</td>\n",
       "      <td>0</td>\n",
       "      <td>2020-09-27</td>\n",
       "      <td>0</td>\n",
       "      <td>1</td>\n",
       "      <td>NaN</td>\n",
       "      <td>204.297484</td>\n",
       "    </tr>\n",
       "    <tr>\n",
       "      <th>1732</th>\n",
       "      <td>1867.0</td>\n",
       "      <td>1</td>\n",
       "      <td>0</td>\n",
       "      <td>0</td>\n",
       "      <td>0</td>\n",
       "      <td>2379655.9</td>\n",
       "      <td>0</td>\n",
       "      <td>2020-09-28</td>\n",
       "      <td>0</td>\n",
       "      <td>0</td>\n",
       "      <td>NaN</td>\n",
       "      <td>-232.379198</td>\n",
       "    </tr>\n",
       "  </tbody>\n",
       "</table>\n",
       "</div>"
      ],
      "text/plain": [
       "      배추_가격(원/kg)  월요일  목요일  금요일  수요일  배추_거래량(kg)  토요일       date  화요일  일요일  \\\n",
       "1728       1839.0    0    1    0    0    150506.3    0 2020-09-24    0    0   \n",
       "1729       1789.0    0    0    1    0     23130.5    0 2020-09-25    0    0   \n",
       "1730       1760.0    0    0    0    0    219004.6    1 2020-09-26    0    0   \n",
       "1731       3066.0    0    0    0    0   1635694.9    0 2020-09-27    0    1   \n",
       "1732       1867.0    1    0    0    0   2379655.9    0 2020-09-28    0    0   \n",
       "\n",
       "      7일 후    residual  \n",
       "1728   NaN -152.919637  \n",
       "1729   NaN  563.415158  \n",
       "1730   NaN -359.340205  \n",
       "1731   NaN  204.297484  \n",
       "1732   NaN -232.379198  "
      ]
     },
     "execution_count": 16,
     "metadata": {},
     "output_type": "execute_result"
    }
   ],
   "source": [
    "train_df.tail()"
   ]
  },
  {
   "cell_type": "markdown",
   "metadata": {},
   "source": [
    "## 테스트용 데이터 "
   ]
  },
  {
   "cell_type": "code",
   "execution_count": 17,
   "metadata": {
    "ExecuteTime": {
     "end_time": "2022-01-12T15:39:08.857129Z",
     "start_time": "2022-01-12T15:39:08.843130Z"
    }
   },
   "outputs": [
    {
     "data": {
      "text/html": [
       "<div>\n",
       "<style scoped>\n",
       "    .dataframe tbody tr th:only-of-type {\n",
       "        vertical-align: middle;\n",
       "    }\n",
       "\n",
       "    .dataframe tbody tr th {\n",
       "        vertical-align: top;\n",
       "    }\n",
       "\n",
       "    .dataframe thead th {\n",
       "        text-align: right;\n",
       "    }\n",
       "</style>\n",
       "<table border=\"1\" class=\"dataframe\">\n",
       "  <thead>\n",
       "    <tr style=\"text-align: right;\">\n",
       "      <th></th>\n",
       "      <th>배추_가격(원/kg)</th>\n",
       "      <th>월요일</th>\n",
       "      <th>목요일</th>\n",
       "      <th>금요일</th>\n",
       "      <th>수요일</th>\n",
       "      <th>배추_거래량(kg)</th>\n",
       "      <th>토요일</th>\n",
       "      <th>date</th>\n",
       "      <th>화요일</th>\n",
       "      <th>일요일</th>\n",
       "      <th>예측</th>\n",
       "    </tr>\n",
       "  </thead>\n",
       "  <tbody>\n",
       "    <tr>\n",
       "      <th>0</th>\n",
       "      <td>1787.0</td>\n",
       "      <td>0</td>\n",
       "      <td>0</td>\n",
       "      <td>0</td>\n",
       "      <td>0</td>\n",
       "      <td>2064183.3</td>\n",
       "      <td>0</td>\n",
       "      <td>2020-09-29</td>\n",
       "      <td>1</td>\n",
       "      <td>0</td>\n",
       "      <td>0</td>\n",
       "    </tr>\n",
       "    <tr>\n",
       "      <th>1</th>\n",
       "      <td>1551.0</td>\n",
       "      <td>0</td>\n",
       "      <td>0</td>\n",
       "      <td>0</td>\n",
       "      <td>1</td>\n",
       "      <td>259065.3</td>\n",
       "      <td>0</td>\n",
       "      <td>2020-09-30</td>\n",
       "      <td>0</td>\n",
       "      <td>0</td>\n",
       "      <td>0</td>\n",
       "    </tr>\n",
       "    <tr>\n",
       "      <th>2</th>\n",
       "      <td>0.0</td>\n",
       "      <td>0</td>\n",
       "      <td>1</td>\n",
       "      <td>0</td>\n",
       "      <td>0</td>\n",
       "      <td>0.0</td>\n",
       "      <td>0</td>\n",
       "      <td>2020-10-01</td>\n",
       "      <td>0</td>\n",
       "      <td>0</td>\n",
       "      <td>0</td>\n",
       "    </tr>\n",
       "    <tr>\n",
       "      <th>3</th>\n",
       "      <td>0.0</td>\n",
       "      <td>0</td>\n",
       "      <td>0</td>\n",
       "      <td>1</td>\n",
       "      <td>0</td>\n",
       "      <td>0.0</td>\n",
       "      <td>0</td>\n",
       "      <td>2020-10-02</td>\n",
       "      <td>0</td>\n",
       "      <td>0</td>\n",
       "      <td>0</td>\n",
       "    </tr>\n",
       "    <tr>\n",
       "      <th>4</th>\n",
       "      <td>0.0</td>\n",
       "      <td>0</td>\n",
       "      <td>0</td>\n",
       "      <td>0</td>\n",
       "      <td>0</td>\n",
       "      <td>0.0</td>\n",
       "      <td>1</td>\n",
       "      <td>2020-10-03</td>\n",
       "      <td>0</td>\n",
       "      <td>0</td>\n",
       "      <td>0</td>\n",
       "    </tr>\n",
       "  </tbody>\n",
       "</table>\n",
       "</div>"
      ],
      "text/plain": [
       "   배추_가격(원/kg)  월요일  목요일  금요일  수요일  배추_거래량(kg)  토요일       date  화요일  일요일  예측\n",
       "0       1787.0    0    0    0    0   2064183.3    0 2020-09-29    1    0   0\n",
       "1       1551.0    0    0    0    1    259065.3    0 2020-09-30    0    0   0\n",
       "2          0.0    0    1    0    0         0.0    0 2020-10-01    0    0   0\n",
       "3          0.0    0    0    1    0         0.0    0 2020-10-02    0    0   0\n",
       "4          0.0    0    0    0    0         0.0    1 2020-10-03    0    0   0"
      ]
     },
     "execution_count": 17,
     "metadata": {},
     "output_type": "execute_result"
    }
   ],
   "source": [
    "cabbage_test_df = test_df[all_features]\n",
    "cabbage_test_df['예측'] = 0 \n",
    "cabbage_test_df.head()"
   ]
  },
  {
   "cell_type": "markdown",
   "metadata": {},
   "source": [
    "# 모델 생성용 피쳐"
   ]
  },
  {
   "cell_type": "code",
   "execution_count": 18,
   "metadata": {
    "ExecuteTime": {
     "end_time": "2022-01-12T15:39:08.873130Z",
     "start_time": "2022-01-12T15:39:08.858130Z"
    }
   },
   "outputs": [
    {
     "data": {
      "text/plain": [
       "{'residual',\n",
       " '금요일',\n",
       " '목요일',\n",
       " '배추_가격(원/kg)',\n",
       " '배추_거래량(kg)',\n",
       " '수요일',\n",
       " '월요일',\n",
       " '일요일',\n",
       " '토요일',\n",
       " '화요일'}"
      ]
     },
     "execution_count": 18,
     "metadata": {},
     "output_type": "execute_result"
    }
   ],
   "source": [
    "model_features = all_features - set(['date'])\n",
    "model_features.add('residual')\n",
    "model_features"
   ]
  },
  {
   "cell_type": "code",
   "execution_count": 19,
   "metadata": {
    "ExecuteTime": {
     "end_time": "2022-01-12T15:39:08.889129Z",
     "start_time": "2022-01-12T15:39:08.874129Z"
    }
   },
   "outputs": [],
   "source": [
    "my_minmax = MinMaxScaler()"
   ]
  },
  {
   "cell_type": "code",
   "execution_count": 20,
   "metadata": {
    "ExecuteTime": {
     "end_time": "2022-01-12T15:39:08.905129Z",
     "start_time": "2022-01-12T15:39:08.890129Z"
    }
   },
   "outputs": [],
   "source": [
    "train_df[list(model_features)] = my_minmax.fit_transform(train_df[list(model_features)])"
   ]
  },
  {
   "cell_type": "markdown",
   "metadata": {},
   "source": [
    "# 학습데이터 NaN 부분제거"
   ]
  },
  {
   "cell_type": "code",
   "execution_count": 21,
   "metadata": {
    "ExecuteTime": {
     "end_time": "2022-01-12T15:39:08.936129Z",
     "start_time": "2022-01-12T15:39:08.906131Z"
    }
   },
   "outputs": [
    {
     "data": {
      "text/html": [
       "<div>\n",
       "<style scoped>\n",
       "    .dataframe tbody tr th:only-of-type {\n",
       "        vertical-align: middle;\n",
       "    }\n",
       "\n",
       "    .dataframe tbody tr th {\n",
       "        vertical-align: top;\n",
       "    }\n",
       "\n",
       "    .dataframe thead th {\n",
       "        text-align: right;\n",
       "    }\n",
       "</style>\n",
       "<table border=\"1\" class=\"dataframe\">\n",
       "  <thead>\n",
       "    <tr style=\"text-align: right;\">\n",
       "      <th></th>\n",
       "      <th>배추_가격(원/kg)</th>\n",
       "      <th>월요일</th>\n",
       "      <th>목요일</th>\n",
       "      <th>금요일</th>\n",
       "      <th>수요일</th>\n",
       "      <th>배추_거래량(kg)</th>\n",
       "      <th>토요일</th>\n",
       "      <th>date</th>\n",
       "      <th>화요일</th>\n",
       "      <th>일요일</th>\n",
       "      <th>7일 후</th>\n",
       "      <th>residual</th>\n",
       "    </tr>\n",
       "  </thead>\n",
       "  <tbody>\n",
       "    <tr>\n",
       "      <th>1716</th>\n",
       "      <td>0.3496</td>\n",
       "      <td>0.0</td>\n",
       "      <td>0.0</td>\n",
       "      <td>0.0</td>\n",
       "      <td>0.0</td>\n",
       "      <td>0.036218</td>\n",
       "      <td>1.0</td>\n",
       "      <td>2020-09-12</td>\n",
       "      <td>0.0</td>\n",
       "      <td>0.0</td>\n",
       "      <td>1812.0</td>\n",
       "      <td>0.317480</td>\n",
       "    </tr>\n",
       "    <tr>\n",
       "      <th>1717</th>\n",
       "      <td>0.0000</td>\n",
       "      <td>0.0</td>\n",
       "      <td>0.0</td>\n",
       "      <td>0.0</td>\n",
       "      <td>0.0</td>\n",
       "      <td>0.185810</td>\n",
       "      <td>0.0</td>\n",
       "      <td>2020-09-13</td>\n",
       "      <td>0.0</td>\n",
       "      <td>1.0</td>\n",
       "      <td>2925.0</td>\n",
       "      <td>0.012409</td>\n",
       "    </tr>\n",
       "    <tr>\n",
       "      <th>1718</th>\n",
       "      <td>0.4084</td>\n",
       "      <td>1.0</td>\n",
       "      <td>0.0</td>\n",
       "      <td>0.0</td>\n",
       "      <td>0.0</td>\n",
       "      <td>0.234451</td>\n",
       "      <td>0.0</td>\n",
       "      <td>2020-09-14</td>\n",
       "      <td>0.0</td>\n",
       "      <td>0.0</td>\n",
       "      <td>1813.0</td>\n",
       "      <td>0.366676</td>\n",
       "    </tr>\n",
       "    <tr>\n",
       "      <th>1719</th>\n",
       "      <td>0.4034</td>\n",
       "      <td>0.0</td>\n",
       "      <td>0.0</td>\n",
       "      <td>0.0</td>\n",
       "      <td>0.0</td>\n",
       "      <td>0.023003</td>\n",
       "      <td>0.0</td>\n",
       "      <td>2020-09-15</td>\n",
       "      <td>1.0</td>\n",
       "      <td>0.0</td>\n",
       "      <td>1838.0</td>\n",
       "      <td>0.209111</td>\n",
       "    </tr>\n",
       "    <tr>\n",
       "      <th>1720</th>\n",
       "      <td>0.3878</td>\n",
       "      <td>0.0</td>\n",
       "      <td>0.0</td>\n",
       "      <td>0.0</td>\n",
       "      <td>1.0</td>\n",
       "      <td>0.036734</td>\n",
       "      <td>0.0</td>\n",
       "      <td>2020-09-16</td>\n",
       "      <td>0.0</td>\n",
       "      <td>0.0</td>\n",
       "      <td>1807.0</td>\n",
       "      <td>0.348318</td>\n",
       "    </tr>\n",
       "    <tr>\n",
       "      <th>1721</th>\n",
       "      <td>0.3966</td>\n",
       "      <td>0.0</td>\n",
       "      <td>1.0</td>\n",
       "      <td>0.0</td>\n",
       "      <td>0.0</td>\n",
       "      <td>0.014135</td>\n",
       "      <td>0.0</td>\n",
       "      <td>2020-09-17</td>\n",
       "      <td>0.0</td>\n",
       "      <td>0.0</td>\n",
       "      <td>1839.0</td>\n",
       "      <td>0.260786</td>\n",
       "    </tr>\n",
       "    <tr>\n",
       "      <th>1722</th>\n",
       "      <td>0.3678</td>\n",
       "      <td>0.0</td>\n",
       "      <td>0.0</td>\n",
       "      <td>1.0</td>\n",
       "      <td>0.0</td>\n",
       "      <td>0.031742</td>\n",
       "      <td>0.0</td>\n",
       "      <td>2020-09-18</td>\n",
       "      <td>0.0</td>\n",
       "      <td>0.0</td>\n",
       "      <td>1789.0</td>\n",
       "      <td>0.392283</td>\n",
       "    </tr>\n",
       "    <tr>\n",
       "      <th>1723</th>\n",
       "      <td>0.3624</td>\n",
       "      <td>0.0</td>\n",
       "      <td>0.0</td>\n",
       "      <td>0.0</td>\n",
       "      <td>0.0</td>\n",
       "      <td>0.053438</td>\n",
       "      <td>1.0</td>\n",
       "      <td>2020-09-19</td>\n",
       "      <td>0.0</td>\n",
       "      <td>0.0</td>\n",
       "      <td>1760.0</td>\n",
       "      <td>0.206196</td>\n",
       "    </tr>\n",
       "    <tr>\n",
       "      <th>1724</th>\n",
       "      <td>0.5850</td>\n",
       "      <td>0.0</td>\n",
       "      <td>0.0</td>\n",
       "      <td>0.0</td>\n",
       "      <td>0.0</td>\n",
       "      <td>0.257980</td>\n",
       "      <td>0.0</td>\n",
       "      <td>2020-09-20</td>\n",
       "      <td>0.0</td>\n",
       "      <td>1.0</td>\n",
       "      <td>3066.0</td>\n",
       "      <td>0.288483</td>\n",
       "    </tr>\n",
       "    <tr>\n",
       "      <th>1725</th>\n",
       "      <td>0.3626</td>\n",
       "      <td>1.0</td>\n",
       "      <td>0.0</td>\n",
       "      <td>0.0</td>\n",
       "      <td>0.0</td>\n",
       "      <td>0.392369</td>\n",
       "      <td>0.0</td>\n",
       "      <td>2020-09-21</td>\n",
       "      <td>0.0</td>\n",
       "      <td>0.0</td>\n",
       "      <td>1867.0</td>\n",
       "      <td>0.211657</td>\n",
       "    </tr>\n",
       "  </tbody>\n",
       "</table>\n",
       "</div>"
      ],
      "text/plain": [
       "      배추_가격(원/kg)  월요일  목요일  금요일  수요일  배추_거래량(kg)  토요일       date  화요일  일요일  \\\n",
       "1716       0.3496  0.0  0.0  0.0  0.0    0.036218  1.0 2020-09-12  0.0  0.0   \n",
       "1717       0.0000  0.0  0.0  0.0  0.0    0.185810  0.0 2020-09-13  0.0  1.0   \n",
       "1718       0.4084  1.0  0.0  0.0  0.0    0.234451  0.0 2020-09-14  0.0  0.0   \n",
       "1719       0.4034  0.0  0.0  0.0  0.0    0.023003  0.0 2020-09-15  1.0  0.0   \n",
       "1720       0.3878  0.0  0.0  0.0  1.0    0.036734  0.0 2020-09-16  0.0  0.0   \n",
       "1721       0.3966  0.0  1.0  0.0  0.0    0.014135  0.0 2020-09-17  0.0  0.0   \n",
       "1722       0.3678  0.0  0.0  1.0  0.0    0.031742  0.0 2020-09-18  0.0  0.0   \n",
       "1723       0.3624  0.0  0.0  0.0  0.0    0.053438  1.0 2020-09-19  0.0  0.0   \n",
       "1724       0.5850  0.0  0.0  0.0  0.0    0.257980  0.0 2020-09-20  0.0  1.0   \n",
       "1725       0.3626  1.0  0.0  0.0  0.0    0.392369  0.0 2020-09-21  0.0  0.0   \n",
       "\n",
       "        7일 후  residual  \n",
       "1716  1812.0  0.317480  \n",
       "1717  2925.0  0.012409  \n",
       "1718  1813.0  0.366676  \n",
       "1719  1838.0  0.209111  \n",
       "1720  1807.0  0.348318  \n",
       "1721  1839.0  0.260786  \n",
       "1722  1789.0  0.392283  \n",
       "1723  1760.0  0.206196  \n",
       "1724  3066.0  0.288483  \n",
       "1725  1867.0  0.211657  "
      ]
     },
     "execution_count": 21,
     "metadata": {},
     "output_type": "execute_result"
    }
   ],
   "source": [
    "cabbage_train_df = train_df.iloc[:-7]\n",
    "\n",
    "cabbage_train_df\n",
    "cabbage_train_df.tail(10)"
   ]
  },
  {
   "cell_type": "markdown",
   "metadata": {},
   "source": [
    "# 모델생성"
   ]
  },
  {
   "cell_type": "markdown",
   "metadata": {},
   "source": [
    "## CNN"
   ]
  },
  {
   "cell_type": "code",
   "execution_count": 22,
   "metadata": {
    "ExecuteTime": {
     "end_time": "2022-01-12T15:39:08.952129Z",
     "start_time": "2022-01-12T15:39:08.937130Z"
    }
   },
   "outputs": [],
   "source": [
    "cnn_x = cabbage_train_df[model_features].values.reshape(-1,len(model_features),1)\n",
    "cnn_y = cabbage_train_df['7일 후'].values.reshape(-1,1,1)"
   ]
  },
  {
   "cell_type": "code",
   "execution_count": 23,
   "metadata": {
    "ExecuteTime": {
     "end_time": "2022-01-12T15:39:58.953132Z",
     "start_time": "2022-01-12T15:39:08.953129Z"
    }
   },
   "outputs": [],
   "source": [
    "with tf.device('/CPU:0'):\n",
    "    cnn_model = Sequential()\n",
    "    cnn_model.add(Conv1D(filters=128,kernel_size=3,activation='relu',input_shape=(10,1)))\n",
    "    cnn_model.add(Dropout(0.1))\n",
    "    cnn_model.add(Conv1D(filters=64,kernel_size=3,activation='relu'))\n",
    "    cnn_model.add(MaxPooling1D(pool_size=3))\n",
    "    cnn_model.add(Flatten())\n",
    "    cnn_model.add(Dropout(0.1))\n",
    "    cnn_model.add(layers.Dense(50))\n",
    "    cnn_model.add(Dropout(0.1))\n",
    "    cnn_model.add(layers.Dense(1))\n",
    "    cnn_model.compile(optimizer='adam', loss='mse')\n",
    "    early_stopping = EarlyStopping(patience=50)\n",
    "    cnn_model.fit(cnn_x, cnn_y, epochs=1000, batch_size=32, validation_split = 0.1, callbacks=[early_stopping], verbose=0)"
   ]
  },
  {
   "cell_type": "markdown",
   "metadata": {},
   "source": [
    "## LSTM"
   ]
  },
  {
   "cell_type": "code",
   "execution_count": 24,
   "metadata": {
    "ExecuteTime": {
     "end_time": "2022-01-12T15:39:58.969132Z",
     "start_time": "2022-01-12T15:39:58.954133Z"
    }
   },
   "outputs": [],
   "source": [
    "lstm_x = cabbage_train_df[model_features].values.reshape(-1,1,len(model_features))\n",
    "lstm_y = cabbage_train_df['7일 후'].values.reshape(-1,1,1)"
   ]
  },
  {
   "cell_type": "code",
   "execution_count": 25,
   "metadata": {
    "ExecuteTime": {
     "end_time": "2022-01-12T15:40:13.819804Z",
     "start_time": "2022-01-12T15:39:58.970135Z"
    }
   },
   "outputs": [],
   "source": [
    "with tf.device('/CPU:0'):\n",
    "    lstm_model = Sequential()\n",
    "    lstm_model.add(layers.Activation('relu'))\n",
    "    lstm_model.add(LSTM(100, input_shape=(21,len(model_features)), return_sequences=True))\n",
    "    lstm_model.add(Dropout(0.1))\n",
    "    lstm_model.add(layers.Dense(50))\n",
    "    lstm_model.add(Dropout(0.1))\n",
    "    lstm_model.add(Dropout(0.1))\n",
    "    lstm_model.add(layers.Dense(1))\n",
    "    lstm_model.compile(optimizer='adam', loss='mse')\n",
    "    early_stopping = EarlyStopping(patience=50)\n",
    "    lstm_model.fit(lstm_x, lstm_y, epochs=1000, batch_size=32, validation_split = 0.1, callbacks=[early_stopping], verbose=0)"
   ]
  },
  {
   "cell_type": "markdown",
   "metadata": {},
   "source": [
    "# 7일후 가격 예측"
   ]
  },
  {
   "cell_type": "code",
   "execution_count": 26,
   "metadata": {
    "ExecuteTime": {
     "end_time": "2022-01-12T15:40:13.835860Z",
     "start_time": "2022-01-12T15:40:13.820806Z"
    }
   },
   "outputs": [],
   "source": [
    "predict_df = train_df.iloc[-7:][all_features]"
   ]
  },
  {
   "cell_type": "markdown",
   "metadata": {},
   "source": [
    "## CNN"
   ]
  },
  {
   "cell_type": "code",
   "execution_count": 27,
   "metadata": {
    "ExecuteTime": {
     "end_time": "2022-01-12T15:40:13.945822Z",
     "start_time": "2022-01-12T15:40:13.836820Z"
    }
   },
   "outputs": [],
   "source": [
    "cnn_X = train_df.iloc[-7:][model_features].values.reshape(-1,len(model_features),1)\n",
    "cnn_y_pred = cnn_model.predict(cnn_X)\n",
    "predict_df['CNN_7일 후 예측'] = cnn_y_pred"
   ]
  },
  {
   "cell_type": "markdown",
   "metadata": {},
   "source": [
    "## LSTM"
   ]
  },
  {
   "cell_type": "code",
   "execution_count": 28,
   "metadata": {
    "ExecuteTime": {
     "end_time": "2022-01-12T15:40:14.280756Z",
     "start_time": "2022-01-12T15:40:13.948823Z"
    }
   },
   "outputs": [],
   "source": [
    "lstm_X = train_df.iloc[-7:][model_features].values.reshape(-1,1,len(model_features))\n",
    "lstm_y_pred = lstm_model.predict(lstm_X)\n",
    "lstm_y_pred = list(lstm_y_pred.reshape(-1,1).flatten())\n",
    "predict_df['LSTM_7일 후 예측'] = lstm_y_pred"
   ]
  },
  {
   "cell_type": "code",
   "execution_count": 29,
   "metadata": {
    "ExecuteTime": {
     "end_time": "2022-01-12T15:40:14.296754Z",
     "start_time": "2022-01-12T15:40:14.281755Z"
    }
   },
   "outputs": [],
   "source": [
    "predict_df['date'] = predict_df['date'].map(lambda x : x + relativedelta(days=7))"
   ]
  },
  {
   "cell_type": "code",
   "execution_count": 30,
   "metadata": {
    "ExecuteTime": {
     "end_time": "2022-01-12T15:40:14.312753Z",
     "start_time": "2022-01-12T15:40:14.297755Z"
    },
    "cell_style": "split"
   },
   "outputs": [
    {
     "data": {
      "text/html": [
       "<div>\n",
       "<style scoped>\n",
       "    .dataframe tbody tr th:only-of-type {\n",
       "        vertical-align: middle;\n",
       "    }\n",
       "\n",
       "    .dataframe tbody tr th {\n",
       "        vertical-align: top;\n",
       "    }\n",
       "\n",
       "    .dataframe thead th {\n",
       "        text-align: right;\n",
       "    }\n",
       "</style>\n",
       "<table border=\"1\" class=\"dataframe\">\n",
       "  <thead>\n",
       "    <tr style=\"text-align: right;\">\n",
       "      <th></th>\n",
       "      <th>date</th>\n",
       "      <th>배추_가격(원/kg)</th>\n",
       "    </tr>\n",
       "  </thead>\n",
       "  <tbody>\n",
       "    <tr>\n",
       "      <th>0</th>\n",
       "      <td>2020-09-29</td>\n",
       "      <td>1787.0</td>\n",
       "    </tr>\n",
       "    <tr>\n",
       "      <th>1</th>\n",
       "      <td>2020-09-30</td>\n",
       "      <td>1551.0</td>\n",
       "    </tr>\n",
       "    <tr>\n",
       "      <th>2</th>\n",
       "      <td>2020-10-01</td>\n",
       "      <td>0.0</td>\n",
       "    </tr>\n",
       "    <tr>\n",
       "      <th>3</th>\n",
       "      <td>2020-10-02</td>\n",
       "      <td>0.0</td>\n",
       "    </tr>\n",
       "    <tr>\n",
       "      <th>4</th>\n",
       "      <td>2020-10-03</td>\n",
       "      <td>0.0</td>\n",
       "    </tr>\n",
       "    <tr>\n",
       "      <th>5</th>\n",
       "      <td>2020-10-04</td>\n",
       "      <td>0.0</td>\n",
       "    </tr>\n",
       "    <tr>\n",
       "      <th>6</th>\n",
       "      <td>2020-10-05</td>\n",
       "      <td>1483.0</td>\n",
       "    </tr>\n",
       "  </tbody>\n",
       "</table>\n",
       "</div>"
      ],
      "text/plain": [
       "        date  배추_가격(원/kg)\n",
       "0 2020-09-29       1787.0\n",
       "1 2020-09-30       1551.0\n",
       "2 2020-10-01          0.0\n",
       "3 2020-10-02          0.0\n",
       "4 2020-10-03          0.0\n",
       "5 2020-10-04          0.0\n",
       "6 2020-10-05       1483.0"
      ]
     },
     "execution_count": 30,
     "metadata": {},
     "output_type": "execute_result"
    }
   ],
   "source": [
    "test_df.iloc[:7][['date',price_feature]]"
   ]
  },
  {
   "cell_type": "code",
   "execution_count": 31,
   "metadata": {
    "ExecuteTime": {
     "end_time": "2022-01-12T15:40:14.327753Z",
     "start_time": "2022-01-12T15:40:14.313754Z"
    },
    "cell_style": "split"
   },
   "outputs": [
    {
     "data": {
      "text/html": [
       "<div>\n",
       "<style scoped>\n",
       "    .dataframe tbody tr th:only-of-type {\n",
       "        vertical-align: middle;\n",
       "    }\n",
       "\n",
       "    .dataframe tbody tr th {\n",
       "        vertical-align: top;\n",
       "    }\n",
       "\n",
       "    .dataframe thead th {\n",
       "        text-align: right;\n",
       "    }\n",
       "</style>\n",
       "<table border=\"1\" class=\"dataframe\">\n",
       "  <thead>\n",
       "    <tr style=\"text-align: right;\">\n",
       "      <th></th>\n",
       "      <th>date</th>\n",
       "      <th>LSTM_7일 후 예측</th>\n",
       "      <th>CNN_7일 후 예측</th>\n",
       "    </tr>\n",
       "  </thead>\n",
       "  <tbody>\n",
       "    <tr>\n",
       "      <th>1726</th>\n",
       "      <td>2020-09-29</td>\n",
       "      <td>1563.885742</td>\n",
       "      <td>1318.128052</td>\n",
       "    </tr>\n",
       "    <tr>\n",
       "      <th>1727</th>\n",
       "      <td>2020-09-30</td>\n",
       "      <td>1473.999878</td>\n",
       "      <td>1313.890503</td>\n",
       "    </tr>\n",
       "    <tr>\n",
       "      <th>1728</th>\n",
       "      <td>2020-10-01</td>\n",
       "      <td>1512.082275</td>\n",
       "      <td>1027.863159</td>\n",
       "    </tr>\n",
       "    <tr>\n",
       "      <th>1729</th>\n",
       "      <td>2020-10-02</td>\n",
       "      <td>1389.017090</td>\n",
       "      <td>1078.120361</td>\n",
       "    </tr>\n",
       "    <tr>\n",
       "      <th>1730</th>\n",
       "      <td>2020-10-03</td>\n",
       "      <td>1488.377075</td>\n",
       "      <td>1078.931030</td>\n",
       "    </tr>\n",
       "    <tr>\n",
       "      <th>1731</th>\n",
       "      <td>2020-10-04</td>\n",
       "      <td>1327.482422</td>\n",
       "      <td>1243.023926</td>\n",
       "    </tr>\n",
       "    <tr>\n",
       "      <th>1732</th>\n",
       "      <td>2020-10-05</td>\n",
       "      <td>1521.221680</td>\n",
       "      <td>1534.666016</td>\n",
       "    </tr>\n",
       "  </tbody>\n",
       "</table>\n",
       "</div>"
      ],
      "text/plain": [
       "           date  LSTM_7일 후 예측  CNN_7일 후 예측\n",
       "1726 2020-09-29   1563.885742  1318.128052\n",
       "1727 2020-09-30   1473.999878  1313.890503\n",
       "1728 2020-10-01   1512.082275  1027.863159\n",
       "1729 2020-10-02   1389.017090  1078.120361\n",
       "1730 2020-10-03   1488.377075  1078.931030\n",
       "1731 2020-10-04   1327.482422  1243.023926\n",
       "1732 2020-10-05   1521.221680  1534.666016"
      ]
     },
     "execution_count": 31,
     "metadata": {},
     "output_type": "execute_result"
    }
   ],
   "source": [
    "predict_df[['date','LSTM_7일 후 예측','CNN_7일 후 예측']]"
   ]
  },
  {
   "cell_type": "code",
   "execution_count": 32,
   "metadata": {
    "ExecuteTime": {
     "end_time": "2022-01-12T15:40:14.343753Z",
     "start_time": "2022-01-12T15:40:14.328754Z"
    }
   },
   "outputs": [
    {
     "data": {
      "text/plain": [
       "1085.6470795546484"
      ]
     },
     "execution_count": 32,
     "metadata": {},
     "output_type": "execute_result"
    }
   ],
   "source": [
    "np.sqrt(mean_squared_error(test_df.iloc[:7][price_feature],predict_df['LSTM_7일 후 예측']))"
   ]
  },
  {
   "cell_type": "code",
   "execution_count": 33,
   "metadata": {
    "ExecuteTime": {
     "end_time": "2022-01-12T15:40:14.358753Z",
     "start_time": "2022-01-12T15:40:14.344755Z"
    }
   },
   "outputs": [
    {
     "data": {
      "text/plain": [
       "865.0421316964286"
      ]
     },
     "execution_count": 33,
     "metadata": {},
     "output_type": "execute_result"
    }
   ],
   "source": [
    "mean_absolute_error(test_df.iloc[:7][price_feature],predict_df['LSTM_7일 후 예측'])"
   ]
  },
  {
   "cell_type": "code",
   "execution_count": 34,
   "metadata": {
    "ExecuteTime": {
     "end_time": "2022-01-12T15:40:14.374753Z",
     "start_time": "2022-01-12T15:40:14.359755Z"
    }
   },
   "outputs": [
    {
     "data": {
      "text/plain": [
       "862.4531482331241"
      ]
     },
     "execution_count": 34,
     "metadata": {},
     "output_type": "execute_result"
    }
   ],
   "source": [
    "np.sqrt(mean_squared_error(test_df.iloc[:7][price_feature],predict_df['CNN_7일 후 예측']))"
   ]
  },
  {
   "cell_type": "code",
   "execution_count": 35,
   "metadata": {
    "ExecuteTime": {
     "end_time": "2022-01-12T15:40:14.389762Z",
     "start_time": "2022-01-12T15:40:14.375754Z"
    }
   },
   "outputs": [
    {
     "data": {
      "text/plain": [
       "740.7979910714286"
      ]
     },
     "execution_count": 35,
     "metadata": {},
     "output_type": "execute_result"
    }
   ],
   "source": [
    "mean_absolute_error(test_df.iloc[:7][price_feature],predict_df['CNN_7일 후 예측'])"
   ]
  },
  {
   "cell_type": "markdown",
   "metadata": {},
   "source": [
    "## LSTM 성능평가"
   ]
  },
  {
   "cell_type": "code",
   "execution_count": 36,
   "metadata": {
    "ExecuteTime": {
     "end_time": "2022-01-12T15:40:14.467338Z",
     "start_time": "2022-01-12T15:40:14.390763Z"
    }
   },
   "outputs": [],
   "source": [
    "cabbage_train_df['LSTM_7일후 예측']= list(lstm_model.predict(lstm_x).reshape(-1,1).flatten())"
   ]
  },
  {
   "cell_type": "code",
   "execution_count": 37,
   "metadata": {
    "ExecuteTime": {
     "end_time": "2022-01-12T15:40:14.483274Z",
     "start_time": "2022-01-12T15:40:14.468276Z"
    }
   },
   "outputs": [
    {
     "data": {
      "text/plain": [
       "121.69765900763913"
      ]
     },
     "execution_count": 37,
     "metadata": {},
     "output_type": "execute_result"
    }
   ],
   "source": [
    "mean_absolute_error(cabbage_train_df['LSTM_7일후 예측'],cabbage_train_df['7일 후'])"
   ]
  },
  {
   "cell_type": "code",
   "execution_count": 38,
   "metadata": {
    "ExecuteTime": {
     "end_time": "2022-01-12T15:40:14.499273Z",
     "start_time": "2022-01-12T15:40:14.484275Z"
    }
   },
   "outputs": [
    {
     "data": {
      "text/plain": [
       "245.86982266792313"
      ]
     },
     "execution_count": 38,
     "metadata": {},
     "output_type": "execute_result"
    }
   ],
   "source": [
    "np.sqrt(mean_squared_error(cabbage_train_df['LSTM_7일후 예측'],cabbage_train_df['7일 후']))"
   ]
  },
  {
   "cell_type": "code",
   "execution_count": 39,
   "metadata": {
    "ExecuteTime": {
     "end_time": "2022-01-12T15:40:14.704002Z",
     "start_time": "2022-01-12T15:40:14.500275Z"
    }
   },
   "outputs": [
    {
     "data": {
      "image/png": "[encoded data removed]",
      "text/plain": [
       "<Figure size 1440x720 with 1 Axes>"
      ]
     },
     "metadata": {
      "needs_background": "light"
     },
     "output_type": "display_data"
    }
   ],
   "source": [
    "cabbage_train_df[['LSTM_7일후 예측','7일 후']].plot(figsize=(20,10));"
   ]
  },
  {
   "cell_type": "markdown",
   "metadata": {},
   "source": [
    "## CNN 성능평가"
   ]
  },
  {
   "cell_type": "code",
   "execution_count": 40,
   "metadata": {
    "ExecuteTime": {
     "end_time": "2022-01-12T15:40:14.782784Z",
     "start_time": "2022-01-12T15:40:14.705004Z"
    }
   },
   "outputs": [],
   "source": [
    "cabbage_train_df['CNN_7일후 예측']= cnn_model.predict(cnn_x)"
   ]
  },
  {
   "cell_type": "code",
   "execution_count": 41,
   "metadata": {
    "ExecuteTime": {
     "end_time": "2022-01-12T15:40:14.798784Z",
     "start_time": "2022-01-12T15:40:14.783786Z"
    }
   },
   "outputs": [
    {
     "data": {
      "text/plain": [
       "123.03654141108196"
      ]
     },
     "execution_count": 41,
     "metadata": {},
     "output_type": "execute_result"
    }
   ],
   "source": [
    "mean_absolute_error(cabbage_train_df['CNN_7일후 예측'],cabbage_train_df['7일 후'])"
   ]
  },
  {
   "cell_type": "code",
   "execution_count": 42,
   "metadata": {
    "ExecuteTime": {
     "end_time": "2022-01-12T15:40:14.813786Z",
     "start_time": "2022-01-12T15:40:14.799786Z"
    }
   },
   "outputs": [
    {
     "data": {
      "text/plain": [
       "243.66274475858776"
      ]
     },
     "execution_count": 42,
     "metadata": {},
     "output_type": "execute_result"
    }
   ],
   "source": [
    "np.sqrt(mean_squared_error(cabbage_train_df['CNN_7일후 예측'],cabbage_train_df['7일 후']))"
   ]
  },
  {
   "cell_type": "code",
   "execution_count": 43,
   "metadata": {
    "ExecuteTime": {
     "end_time": "2022-01-12T15:40:14.972675Z",
     "start_time": "2022-01-12T15:40:14.814786Z"
    }
   },
   "outputs": [
    {
     "data": {
      "image/png": "[encoded data removed]",
      "text/plain": [
       "<Figure size 1440x720 with 1 Axes>"
      ]
     },
     "metadata": {
      "needs_background": "light"
     },
     "output_type": "display_data"
    }
   ],
   "source": [
    "cabbage_train_df[['CNN_7일후 예측','7일 후']].plot(figsize=(20,10));"
   ]
  }
 ],
 "metadata": {
  "accelerator": "GPU",
  "colab": {
   "name": "gaon_nongsan.ipynb",
   "provenance": []
  },
  "kernelspec": {
   "display_name": "Python 3 (ipykernel)",
   "language": "python",
   "name": "python3"
  },
  "language_info": {
   "codemirror_mode": {
    "name": "ipython",
    "version": 3
   },
   "file_extension": ".py",
   "mimetype": "text/x-python",
   "name": "python",
   "nbconvert_exporter": "python",
   "pygments_lexer": "ipython3",
   "version": "3.7.11"
  },
  "toc": {
   "base_numbering": 1,
   "nav_menu": {},
   "number_sections": true,
   "sideBar": true,
   "skip_h1_title": false,
   "title_cell": "Table of Contents",
   "title_sidebar": "Contents",
   "toc_cell": false,
   "toc_position": {},
   "toc_section_display": true,
   "toc_window_display": false
  },
  "varInspector": {
   "cols": {
    "lenName": 16,
    "lenType": 16,
    "lenVar": 40
   },
   "kernels_config": {
    "python": {
     "delete_cmd_postfix": "",
     "delete_cmd_prefix": "del ",
     "library": "var_list.py",
     "varRefreshCmd": "print(var_dic_list())"
    },
    "r": {
     "delete_cmd_postfix": ") ",
     "delete_cmd_prefix": "rm(",
     "library": "var_list.r",
     "varRefreshCmd": "cat(var_dic_list()) "
    }
   },
   "types_to_exclude": [
    "module",
    "function",
    "builtin_function_or_method",
    "instance",
    "_Feature"
   ],
   "window_display": false
  }
 },
 "nbformat": 4,
 "nbformat_minor": 1
}
